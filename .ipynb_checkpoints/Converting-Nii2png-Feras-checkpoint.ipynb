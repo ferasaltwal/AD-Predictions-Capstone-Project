{
 "cells": [
  {
   "cell_type": "code",
   "execution_count": 45,
   "metadata": {},
   "outputs": [],
   "source": [
    "import numpy as np\n",
    "import pandas as pd\n",
    "import os\n",
    "import scipy as sp\n",
    "import nibabel as nb\n",
    "import shutil\n",
    "import nii2png1"
   ]
  },
  {
   "cell_type": "code",
   "execution_count": 3,
   "metadata": {},
   "outputs": [],
   "source": [
    "import scipy.misc"
   ]
  },
  {
   "cell_type": "code",
   "execution_count": 4,
   "metadata": {},
   "outputs": [
    {
     "data": {
      "text/plain": [
       "'1.5.0'"
      ]
     },
     "execution_count": 4,
     "metadata": {},
     "output_type": "execute_result"
    }
   ],
   "source": [
    "scipy.__version__"
   ]
  },
  {
   "cell_type": "code",
   "execution_count": 5,
   "metadata": {},
   "outputs": [],
   "source": [
    "import imageio"
   ]
  },
  {
   "cell_type": "code",
   "execution_count": 7,
   "metadata": {},
   "outputs": [
    {
     "name": "stdout",
     "output_type": "stream",
     "text": [
      "Collecting nii2png\n",
      "  Downloading nii2png-0.3.0-py3-none-any.whl (7.1 kB)\n",
      "Requirement already satisfied: nibabel in /Users/ferasaltwal/opt/anaconda3/lib/python3.8/site-packages (from nii2png) (3.2.0)\n",
      "Requirement already satisfied: numpy in /Users/ferasaltwal/opt/anaconda3/lib/python3.8/site-packages (from nii2png) (1.18.5)\n",
      "\u001b[31mERROR: Could not find a version that satisfies the requirement shutil (from nii2png) (from versions: none)\u001b[0m\n",
      "\u001b[31mERROR: No matching distribution found for shutil (from nii2png)\u001b[0m\n"
     ]
    }
   ],
   "source": [
    "!pip install nii2png"
   ]
  },
  {
   "cell_type": "code",
   "execution_count": null,
   "metadata": {},
   "outputs": [
    {
     "name": "stderr",
     "output_type": "stream",
     "text": [
      "/Users/ferasaltwal/Documents/DSI/ADNI-trial/nii2png.py:38: DeprecationWarning: get_data() is deprecated in favor of get_fdata(), which has a more predictable return type. To obtain get_data() behavior going forward, use numpy.asanyarray(img.dataobj).\n",
      "\n",
      "* deprecated from version: 3.0\n",
      "* Will raise <class 'nibabel.deprecator.ExpiredDeprecationError'> as of version: 5.0\n",
      "  image_array = nibabel.load(inputfile).get_data()\n"
     ]
    },
    {
     "name": "stdout",
     "output_type": "stream",
     "text": [
      "Input file is  ADNI_002_S_0413_MR_MPR____N3__Scaled_Br_20070216232854688_S14782_I40657.nii\n",
      "Output folder is  nii2png/\n",
      "3\n"
     ]
    }
   ],
   "source": [
    "run nii2png.py -i ADNI_002_S_0559_MR_MPR____N3__Scaled_Br_20070319121214158_S15922_I45126.nii -o nii2png/002_S_0559/"
   ]
  },
  {
   "cell_type": "code",
   "execution_count": null,
   "metadata": {},
   "outputs": [],
   "source": [
    "run nii2png.py -i ADNI_002_S_0559_MR_MPR____N3__Scaled_Br_20070319121214158_S15922_I45126.nii -o nii2png/002_S_0559/"
   ]
  },
  {
   "cell_type": "code",
   "execution_count": 10,
   "metadata": {},
   "outputs": [
    {
     "data": {
      "text/plain": [
       "['.DS_Store', 'AD', 'CN', 'MCI']"
      ]
     },
     "execution_count": 10,
     "metadata": {},
     "output_type": "execute_result"
    }
   ],
   "source": [
    "os.listdir ('../data/')"
   ]
  },
  {
   "cell_type": "code",
   "execution_count": 15,
   "metadata": {},
   "outputs": [
    {
     "name": "stdout",
     "output_type": "stream",
     "text": [
      "AD\n",
      "CN\n",
      "MCI\n"
     ]
    }
   ],
   "source": [
    "for i in os.listdir ('../data/'):\n",
    "    if i != '.DS_Store':\n",
    "        print (i)"
   ]
  },
  {
   "cell_type": "code",
   "execution_count": 25,
   "metadata": {},
   "outputs": [
    {
     "name": "stdout",
     "output_type": "stream",
     "text": [
      "ADNI_136_S_0194_MR_MPR-R__GradWarp__B1_Correction__N3__Scaled_2_Br_20081008133332716_S20331_I119719.nii\n",
      "ADNI_136_S_0426_MR_MPR__GradWarp__B1_Correction__N3__Scaled_2_Br_20081008134327484_S14581_I119730.nii\n",
      "ADNI_136_S_0184_MR_MPR__GradWarp__B1_Correction__N3__Scaled_2_Br_20081008132617918_S11974_I119711.nii\n",
      "ADNI_136_S_0186_MR_MPR-R__GradWarp__B1_Correction__N3__Scaled_2_Br_20081008133102292_S19320_I119716.nii\n",
      "ADNI_136_S_0695_MR_MPR__GradWarp__B1_Correction__N3__Scaled_2_Br_20081008134904920_S19019_I119736.nii\n",
      "ADNI_136_S_0195_MR_MPR__GradWarp__B1_Correction__N3__Scaled_2_Br_20081008133424993_S12523_I119720.nii\n"
     ]
    }
   ],
   "source": [
    "directory = '../data/'\n",
    "for i in os.listdir (directory):\n",
    "    if i != '.DS_Store':\n",
    "        for n in os.listdir(directory + i):\n",
    "            if n != '.DS_Store':\n",
    "                print(n)"
   ]
  },
  {
   "cell_type": "code",
   "execution_count": null,
   "metadata": {},
   "outputs": [],
   "source": [
    "#here I made a copy of nii2png called nii2png1..in this copy I removed the question about rotation to easily automate image extraction\n",
    "run nii2png1.py -i ../data/CN/ADNI_073_S_0386_MR_MPR__GradWarp__B1_Correction__N3__Scaled_2_Br_20081006105337889_S13746_I119231.nii -o ../data/CN/test"
   ]
  },
  {
   "cell_type": "code",
   "execution_count": 33,
   "metadata": {},
   "outputs": [],
   "source": [
    "input_dir = '/Users/ferasaltwal/Documents/DSI/Capstone/data/CN/files/'\n",
    "output_dir = '/Users/ferasaltwal/Documents/DSI/Capstone/data/CN/output/'"
   ]
  },
  {
   "cell_type": "code",
   "execution_count": 41,
   "metadata": {},
   "outputs": [],
   "source": [
    "#trial loop to iterate through a file in a certain directory and extract images in output directory\n",
    "def extract_nii(input_dir, output_dir):\n",
    "    for i in os.listdir (input_dir):\n",
    "        if i != '.DS_Store':\n",
    "            %run nii2png1.py -i {input_dir}{i} -o {output_dir}"
   ]
  },
  {
   "cell_type": "markdown",
   "metadata": {},
   "source": [
    "now let's iterate through all of the files and extract pngs from nii files"
   ]
  },
  {
   "cell_type": "code",
   "execution_count": 38,
   "metadata": {},
   "outputs": [],
   "source": [
    "input_nii_AD = '/Users/ferasaltwal/Documents/DSI/Capstone/nii_sorted/AD/'\n",
    "input_nii_MCI = '/Users/ferasaltwal/Documents/DSI/Capstone/nii_sorted/MCI/'\n",
    "input_nii_CN = '/Users/ferasaltwal/Documents/DSI/Capstone/nii_sorted/CN/'"
   ]
  },
  {
   "cell_type": "code",
   "execution_count": 39,
   "metadata": {},
   "outputs": [],
   "source": [
    "output_png_AD = '/Users/ferasaltwal/Documents/DSI/Capstone/extracted-png-sorted/AD/'\n",
    "output_png_MCI = '/Users/ferasaltwal/Documents/DSI/Capstone/extracted-png-sorted/MCI/'\n",
    "output_png_CN = '/Users/ferasaltwal/Documents/DSI/Capstone/extracted-png-sorted/CN/'"
   ]
  },
  {
   "cell_type": "code",
   "execution_count": null,
   "metadata": {},
   "outputs": [],
   "source": [
    "# extract_nii(input_nii_AD, output_png_AD)"
   ]
  },
  {
   "cell_type": "code",
   "execution_count": null,
   "metadata": {},
   "outputs": [],
   "source": [
    "# extract_nii(input_nii_MCI, output_png_MCI)"
   ]
  },
  {
   "cell_type": "code",
   "execution_count": null,
   "metadata": {},
   "outputs": [],
   "source": [
    "# extract_nii(input_nii_CN, output_png_CN)"
   ]
  },
  {
   "cell_type": "markdown",
   "metadata": {},
   "source": [
    "- each patient nii file has 160-180 png files, we only want to keep files 41-130\n",
    "- the reason for deleting first and last 40-60 images is because they are at the begninning and ending of the sagital orientation, therefore they have too much noise and dark areas and it's better to delete them."
   ]
  },
  {
   "cell_type": "code",
   "execution_count": 88,
   "metadata": {},
   "outputs": [],
   "source": [
    "def delete_marginal_png (input_dir):\n",
    "    for file in os.listdir(input_dir):\n",
    "        if file != '.DS_Store':\n",
    "            if int(file[-7:-4]) <40 or int(file[-7:-4]) > 130:\n",
    "                os.remove(input_dir+file)"
   ]
  },
  {
   "cell_type": "code",
   "execution_count": 89,
   "metadata": {},
   "outputs": [],
   "source": [
    "delete_marginal_png(output_png_AD)"
   ]
  },
  {
   "cell_type": "code",
   "execution_count": 90,
   "metadata": {},
   "outputs": [],
   "source": [
    "delete_marginal_png(output_png_MCI)"
   ]
  },
  {
   "cell_type": "code",
   "execution_count": 91,
   "metadata": {},
   "outputs": [],
   "source": [
    "delete_marginal_png(output_png_CN)"
   ]
  }
 ],
 "metadata": {
  "kernelspec": {
   "display_name": "Python 3",
   "language": "python",
   "name": "python3"
  },
  "language_info": {
   "codemirror_mode": {
    "name": "ipython",
    "version": 3
   },
   "file_extension": ".py",
   "mimetype": "text/x-python",
   "name": "python",
   "nbconvert_exporter": "python",
   "pygments_lexer": "ipython3",
   "version": "3.8.3"
  }
 },
 "nbformat": 4,
 "nbformat_minor": 4
}
