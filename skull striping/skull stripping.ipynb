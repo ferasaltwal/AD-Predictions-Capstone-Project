{
 "cells": [
  {
   "cell_type": "code",
<<<<<<< HEAD
   "execution_count": 16,
=======
   "execution_count": 4,
>>>>>>> f242af649c6ac8e78d1ef0702a79664282af2547
   "metadata": {},
   "outputs": [],
   "source": [
    "import os\n",
    "import nipype\n",
<<<<<<< HEAD
    "import nipype.interfaces.fsl as fsl\n",
    "import utilsnifti\n",
    "\n",
    "import torch\n",
    "import torch.nn as nn\n",
    "import torch.nn.functional as F\n",
    "import torch.optim as optim\n",
    "from torch.autograd import Variable\n",
    "from torch.utils.data import Dataset, DataLoader"
=======
    "import nipype.interfaces.fsl as fsl"
>>>>>>> f242af649c6ac8e78d1ef0702a79664282af2547
   ]
  },
  {
   "cell_type": "code",
   "execution_count": null,
   "metadata": {},
   "outputs": [],
   "source": [
<<<<<<< HEAD
    "# pip install utils"
=======
    "# pip install nipype"
>>>>>>> f242af649c6ac8e78d1ef0702a79664282af2547
   ]
  },
  {
   "cell_type": "code",
<<<<<<< HEAD
   "execution_count": 7,
   "metadata": {},
   "outputs": [],
   "source": [
    "raw_data_path = '/Users/ferasaltwal/Documents/DSI/Capstone/AD_raw'                   \n",
=======
   "execution_count": 49,
   "metadata": {},
   "outputs": [],
   "source": [
    "raw_data_path = '/Users/ferasaltwal/Documents/DSI/Capstone/AD_raw'                                                                                                                 #path to raw image directory\n",
>>>>>>> f242af649c6ac8e78d1ef0702a79664282af2547
    "ssdata_dir = '/Users/ferasaltwal/Documents/DSI/Capstone/skull_stripped_output'"
   ]
  },
  {
   "cell_type": "code",
<<<<<<< HEAD
   "execution_count": null,
   "metadata": {},
   "outputs": [],
   "source": [
    "# pip install torch"
   ]
  },
  {
   "cell_type": "code",
   "execution_count": 8,
=======
   "execution_count": 51,
>>>>>>> f242af649c6ac8e78d1ef0702a79664282af2547
   "metadata": {},
   "outputs": [
    {
     "name": "stdout",
     "output_type": "stream",
     "text": [
<<<<<<< HEAD
      "ADNI_002_S_0413_MR_MPR__GradWarp__B1_Correction__N3__Scaled_Br_20070713121420365_S32938_I60008.nii is not skull stripped\n",
      "ADNI_002_S_0295_MR_MPR__GradWarp__B1_Correction__N3__Scaled_Br_20070802163833409_S32678_I64025.nii is not skull stripped\n"
=======
      "201109-12:08:09,830 nipype.interface WARNING:\n",
      "\t FSLOUTPUTTYPE environment variable is not set. Setting FSLOUTPUTTYPE=NIFTI\n",
      "ADNI_002_S_0295_MR_MPR__GradWarp__B1_Correction__N3__Scaled_Br_20070802163833409_S32678_I64025.niiis not skull stripped\n"
>>>>>>> f242af649c6ac8e78d1ef0702a79664282af2547
     ]
    }
   ],
   "source": [
    "for file in os.listdir(raw_data_path):\n",
    "    if file != \".DS_Store\":\n",
    "        try:\n",
<<<<<<< HEAD
    "            mybet = fsl.BET(FSLINPUTTYPE = 'NIFTI', FSLOUTPUTTYPE = 'NIFTI', \n",
    "                    in_file=os.path.join(raw_data_path,file),\n",
    "                    out_file=os.path.join(ssdata_dir,file +'_2.nii'), \n",
    "                    frac=0.2)   \n",
    "            mybet.run()                                                                                                                                     \n",
    "            print(file+' is skull stripped')\n",
    "        except:\n",
    "            print(file+' is not skull stripped')"
=======
    "            mybet = nipype.interfaces.fsl.BET(in_file=os.path.join(raw_data_path,file),out_file=os.path.join(ssdata_dir,file +'_2.nii'), frac=0.2)                #frac=0.2\n",
    "            mybet.run()                                                                                                                                      #executing the brain extraction\n",
    "            print(file+'is skull stripped')\n",
    "        except:\n",
    "            print(file+'is not skull stripped')"
>>>>>>> f242af649c6ac8e78d1ef0702a79664282af2547
   ]
  },
  {
   "cell_type": "code",
   "execution_count": null,
   "metadata": {},
   "outputs": [],
   "source": []
  },
  {
   "cell_type": "code",
<<<<<<< HEAD
   "execution_count": 22,
   "metadata": {},
   "outputs": [],
   "source": [
    "mask = utilsnifti.load_nifti('/Users/ferasaltwal/Documents/DSI/Capstone/AD_raw/ADNI_002_S_0295_MR_MPR__GradWarp__B1_Correction__N3__Scaled_Br_20070802163833409_S32678_I64025.nii', z_factor=0.75)"
   ]
  },
  {
   "cell_type": "code",
=======
>>>>>>> f242af649c6ac8e78d1ef0702a79664282af2547
   "execution_count": null,
   "metadata": {},
   "outputs": [],
   "source": []
  }
 ],
 "metadata": {
  "kernelspec": {
   "display_name": "Python 3",
   "language": "python",
   "name": "python3"
  },
  "language_info": {
   "codemirror_mode": {
    "name": "ipython",
    "version": 3
   },
   "file_extension": ".py",
   "mimetype": "text/x-python",
   "name": "python",
   "nbconvert_exporter": "python",
   "pygments_lexer": "ipython3",
   "version": "3.8.3"
  }
 },
 "nbformat": 4,
 "nbformat_minor": 4
}
