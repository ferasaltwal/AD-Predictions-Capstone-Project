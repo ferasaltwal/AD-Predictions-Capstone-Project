{
 "cells": [
  {
   "cell_type": "markdown",
   "metadata": {},
   "source": [
    "<img src=\"../img/intro1.png\">"
   ]
  },
  {
   "cell_type": "markdown",
   "metadata": {},
   "source": [
    "---\n",
    "#### This work is performed using convolutional neural network to predict Alzheimer's disease using brain MRI images from the [Alzheimer's Disease Neuroimaging Initiative (ADNI)](http://adni.loni.usc.edu/). \n",
    "\n",
    "---\n",
    "# Table of Contents\n",
    "- [Problem Statement](#Problem-Statement)\n",
    "- [Requirements](#Requirements)\n",
    "- [Image Extraction](#Image-Extraction)\n",
    "- [Image Preprocessing](#Image-Preprocessing)\n",
    "- [Models Summary](#Models-Summary)\n",
    "- [Key Challenges](#Key-Challenges)\n",
    "- [Interactive Demo](#Interactive-Demo)\n",
    "- [Conclusions](#Conclusions)\n",
    "- [Future Work](#Future-Work)\n",
    "- [References and Data Sources](#References-and-Data-Sources)\n",
    "\n",
    "# Problem Statement\n",
    "Can we detect Alzheimer’s disease using brain MRI?\n",
    "\n",
    "Alzheimer's disease (AD) is a progressive neurodegenrative disease that affects memory, language processing, reasoning, and social behaviors. Patients with AD will have a progressive loss of brain structure due to neuronal death. The hippocampus and entorhinal cortex are first regions to be affected in AD patients, and in later stages the cerebral cortex get affected as well.\n",
    "\n",
    "AD affects around 44M patients around the world, and 5.5M in the US alone. \n",
    "\n",
    "Early and accurate detection of AD allows for early management of the disease and therefore, delaying it's onset. \n",
    "\n",
    "# Requirements\n",
    "- [Python 3.5 and above](https://www.python.org/)\n",
    "- [Tensorflow](https://www.tensorflow.org/)\n",
    "- [Scikit-learn](https://scikit-learn.org/stable/)\n",
    "- [opencv-python](https://pypi.org/project/opencv-python/)\n",
    "- [Deepbrain](https://pypi.org/project/deepbrain/)\n",
    "- [Nibabel](https://pypi.org/project/nibabel/)\n",
    "- [nii2png](https://pypi.org/project/nii2png/)\n",
    "\n",
    "# Image Extraction\n",
    "Brain MRI images are provided by ADNI as NIFTI files. NIFTI files contain 160-170 T1-MRI images per subject representing slices of the brain 1.2 mm apart. \n",
    "\n",
    "IN order to extract these png images from each NIFTI file, I used a library called [nii2png](https://pypi.org/project/nii2png/). I modified this library for my own purposes. \n",
    "\n",
    "# Image Preprocessing\n",
    "All extracted png images were resized, and skull and other tissues were stripped using [Deepbrain](https://pypi.org/project/deepbrain/) library.\n",
    "\n",
    "Here is an example of the resulted extracted brains:\n",
    "\n",
    "<img src=\"../img/skull.png\"> <img src=\"../img/noskull.png\">\n",
    "\n",
    "![Alt text](https://github.com/RishalAggarwal/3D-Convnet-for-Alzheimer-s-Detection/blob/master/3D%20Convolutional%20Network%20for%20Alzheimer's%20Detection/brainscan/normal.gif)\n"
   ]
  },
  {
   "cell_type": "markdown",
   "metadata": {},
   "source": []
  },
  {
   "cell_type": "code",
   "execution_count": null,
   "metadata": {},
   "outputs": [],
   "source": []
  }
 ],
 "metadata": {
  "kernelspec": {
   "display_name": "Python 3",
   "language": "python",
   "name": "python3"
  },
  "language_info": {
   "codemirror_mode": {
    "name": "ipython",
    "version": 3
   },
   "file_extension": ".py",
   "mimetype": "text/x-python",
   "name": "python",
   "nbconvert_exporter": "python",
   "pygments_lexer": "ipython3",
   "version": "3.7.7"
  }
 },
 "nbformat": 4,
 "nbformat_minor": 4
}
