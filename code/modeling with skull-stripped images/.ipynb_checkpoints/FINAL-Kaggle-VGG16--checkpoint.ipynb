{
 "cells": [
  {
   "cell_type": "code",
   "execution_count": null,
   "metadata": {
    "_cell_guid": "b1076dfc-b9ad-4769-8c92-a6c4dae69d19",
    "_uuid": "8f2839f25d086af736a60e9eeb907d3b93b6e0e5"
   },
   "outputs": [],
   "source": [
    "# This Python 3 environment comes with many helpful analytics libraries installed\n",
    "# It is defined by the kaggle/python Docker image: https://github.com/kaggle/docker-python\n",
    "# For example, here's several helpful packages to load\n",
    "\n",
    "import numpy as np # linear algebra\n",
    "import pandas as pd # data processing, CSV file I/O (e.g. pd.read_csv)\n",
    "\n",
    "# Input data files are available in the read-only \"../input/\" directory\n",
    "# For example, running this (by clicking run or pressing Shift+Enter) will list all files under the input directory\n",
    "\n",
    "import os\n",
    "for dirname, _, filenames in os.walk('/kaggle/input'):\n",
    "    for filename in filenames:\n",
    "        print(os.path.join(dirname, filename))\n",
    "\n",
    "# You can write up to 20GB to the current directory (/kaggle/working/) that gets preserved as output when you create a version using \"Save & Run All\" \n",
    "# You can also write temporary files to /kaggle/temp/, but they won't be saved outside of the current session\n",
    "\n",
    "import shutil\n",
    "import random\n",
    "\n",
    "import tensorflow as tf\n",
    "from tensorflow.keras.applications import VGG16\n",
    "from tensorflow.keras.models import Sequential\n",
    "from tensorflow.keras.layers import Dense, MaxPool2D, Conv2D, Flatten, Dropout, GlobalMaxPooling2D, BatchNormalization, MaxPooling2D\n",
    "from tensorflow.keras.preprocessing.image import ImageDataGenerator\n",
    "from tensorflow.keras.preprocessing import image\n",
    "from tensorflow.keras.optimizers import Adam\n",
    "import hpy5"
   ]
  },
  {
   "cell_type": "code",
   "execution_count": 3,
   "metadata": {
    "_cell_guid": "79c7e3d0-c299-4dcb-8224-4455121ee9b0",
    "_uuid": "d629ff2d2480ee46fbb7e2d37f6b5fab8052498a"
   },
   "outputs": [],
   "source": [
    "from tqdm import tqdm\n",
    "import matplotlib.pyplot as plt\n",
    "import cv2"
   ]
  },
  {
   "cell_type": "code",
   "execution_count": 2,
   "metadata": {},
   "outputs": [],
   "source": [
    "data_dir = '../input/adnimrilabeled/extracted-png-renamed-skull-stripped/train'\n",
    "categories = ['AD','CN']"
   ]
  },
  {
   "cell_type": "code",
   "execution_count": 4,
   "metadata": {},
   "outputs": [],
   "source": [
    "# for category in categories:\n",
    "#     path = os.path.join(data_dir, category)\n",
    "#     for img in os.listdir(path):\n",
    "#         img_array = cv2.imread(os.path.join(path, img))\n",
    "#         plt.imshow(img_array, cmap='gray')\n",
    "#         plt.show()\n",
    "#         break\n",
    "#     break"
   ]
  },
  {
   "cell_type": "code",
   "execution_count": 5,
   "metadata": {},
   "outputs": [],
   "source": [
    "img_size = 150\n",
    "\n",
    "# new_array = cv2.resize(img_array, (img_size, img_size), cv2.IMREAD_GRAYSCALE)\n",
    "# plt.imshow(new_array, cmap='gray')\n",
    "# plt.show()"
   ]
  },
  {
   "cell_type": "code",
   "execution_count": 6,
   "metadata": {},
   "outputs": [],
   "source": [
    "# for category in categories:\n",
    "#         path = os.path.join(data_dir, category)\n",
    "#         class_num = categories.index(category)\n",
    "#         for img in tqdm(os.listdir(path)):\n",
    "#             print (img)"
   ]
  },
  {
   "cell_type": "code",
   "execution_count": 7,
   "metadata": {},
   "outputs": [],
   "source": [
    "#adopted from sentdex keras tutuorial\n",
    "training_data = []\n",
    "\n",
    "def create_training_data():\n",
    "    for category in categories:\n",
    "        path = os.path.join(data_dir, category)\n",
    "        class_num = categories.index(category)\n",
    "        for img in tqdm(os.listdir(path)):\n",
    "#             if int(img[-7:-4]) > 70 and int(img[-7:-4]) <100:\n",
    "            \n",
    "            try:\n",
    "                img_array = cv2.imread(os.path.join(path, img))\n",
    "                new_array = cv2.resize(img_array, (img_size, img_size))\n",
    "                training_data.append([new_array, class_num])\n",
    "            except Exception as e:\n",
    "                pass"
   ]
  },
  {
   "cell_type": "code",
   "execution_count": 8,
   "metadata": {},
   "outputs": [
    {
     "name": "stderr",
     "output_type": "stream",
     "text": [
      "100%|██████████| 8094/8094 [00:24<00:00, 327.58it/s]\n",
      "100%|██████████| 9585/9585 [00:28<00:00, 337.69it/s]\n"
     ]
    }
   ],
   "source": [
    "create_training_data()"
   ]
  },
  {
   "cell_type": "code",
   "execution_count": 9,
   "metadata": {},
   "outputs": [
    {
     "name": "stdout",
     "output_type": "stream",
     "text": [
      "17679\n"
     ]
    }
   ],
   "source": [
    "print(len(training_data))"
   ]
  },
  {
   "cell_type": "code",
   "execution_count": 10,
   "metadata": {},
   "outputs": [],
   "source": [
    "random.shuffle(training_data)"
   ]
  },
  {
   "cell_type": "code",
   "execution_count": 11,
   "metadata": {},
   "outputs": [],
   "source": [
    "# testing_data = []\n",
    "# testing_dir = '../input/adnimrilabeled/extracted-png-renamed-skull-stripped/test'\n",
    "# def create_testing_data():\n",
    "#     for category in categories:\n",
    "#         path = os.path.join(testing_dir, category)\n",
    "#         class_num = categories.index(category)\n",
    "#         for img in tqdm(os.listdir(path)):\n",
    "# #             if int(img[-7:-4]) > 70 and int(img[-7:-4]) <100:\n",
    "            \n",
    "#             img_array = cv2.imread(os.path.join(path, img))\n",
    "#             new_array = cv2.resize(img_array, (img_size, img_size))\n",
    "#             testing_data.append([new_array, class_num])\n",
    "            "
   ]
  },
  {
   "cell_type": "code",
   "execution_count": 12,
   "metadata": {},
   "outputs": [],
   "source": [
    "# create_testing_data()"
   ]
  },
  {
   "cell_type": "code",
   "execution_count": 13,
   "metadata": {},
   "outputs": [
    {
     "data": {
      "text/plain": [
       "2982"
      ]
     },
     "execution_count": 13,
     "metadata": {},
     "output_type": "execute_result"
    }
   ],
   "source": [
    "# len(testing_data)"
   ]
  },
  {
   "cell_type": "code",
   "execution_count": 13,
   "metadata": {},
   "outputs": [],
   "source": [
    "# random.shuffle(testing_data)"
   ]
  },
  {
   "cell_type": "code",
   "execution_count": 14,
   "metadata": {},
   "outputs": [
    {
     "name": "stdout",
     "output_type": "stream",
     "text": [
      "0\n",
      "1\n",
      "0\n",
      "0\n",
      "1\n"
     ]
    }
   ],
   "source": [
    "for sample in training_data[:5]:\n",
    "    print(sample[1])"
   ]
  },
  {
   "cell_type": "code",
   "execution_count": 15,
   "metadata": {},
   "outputs": [],
   "source": [
    "X = []\n",
    "y = []"
   ]
  },
  {
   "cell_type": "code",
   "execution_count": 16,
   "metadata": {},
   "outputs": [],
   "source": [
    "for features, label in training_data[:9000]:\n",
    "    X.append(features)\n",
    "    y.append(label)\n",
    "    \n",
    "X = (np.array(X).reshape(-1, img_size, img_size, 3))/255"
   ]
  },
  {
   "cell_type": "code",
   "execution_count": 17,
   "metadata": {},
   "outputs": [
    {
     "data": {
      "text/plain": [
       "(9000, 150, 150, 3)"
      ]
     },
     "execution_count": 17,
     "metadata": {},
     "output_type": "execute_result"
    }
   ],
   "source": [
    "X.shape"
   ]
  },
  {
   "cell_type": "code",
   "execution_count": 18,
   "metadata": {},
   "outputs": [],
   "source": [
    "y = np.array(y)"
   ]
  },
  {
   "cell_type": "code",
   "execution_count": 19,
   "metadata": {},
   "outputs": [
    {
     "data": {
      "text/plain": [
       "(9000,)"
      ]
     },
     "execution_count": 19,
     "metadata": {},
     "output_type": "execute_result"
    }
   ],
   "source": [
    "y.shape"
   ]
  },
  {
   "cell_type": "code",
   "execution_count": 20,
   "metadata": {},
   "outputs": [
    {
     "name": "stdout",
     "output_type": "stream",
     "text": [
      "Downloading data from https://storage.googleapis.com/tensorflow/keras-applications/vgg16/vgg16_weights_tf_dim_ordering_tf_kernels_notop.h5\n",
      "58892288/58889256 [==============================] - 3s 0us/step\n"
     ]
    }
   ],
   "source": [
    "vgg_model = VGG16(weights = 'imagenet', include_top = False, input_shape=(150, 150, 3))"
   ]
  },
  {
   "cell_type": "code",
   "execution_count": 21,
   "metadata": {},
   "outputs": [],
   "source": [
    "for layers in (vgg_model.layers):\n",
    "    layers.trainable = False"
   ]
  },
  {
   "cell_type": "code",
   "execution_count": 22,
   "metadata": {},
   "outputs": [],
   "source": [
    "model = Sequential()"
   ]
  },
  {
   "cell_type": "code",
   "execution_count": 23,
   "metadata": {},
   "outputs": [],
   "source": [
    "for layer in vgg_model.layers:\n",
    "\n",
    "    model.add(layer)\n",
    "    \n",
    "        "
   ]
  },
  {
   "cell_type": "code",
   "execution_count": 24,
   "metadata": {},
   "outputs": [],
   "source": [
    "model.add(Flatten())\n",
    "model.add(Dense(128, activation='relu'))\n",
    "model.add(Dense(64, activation='relu'))\n",
    "model.add(Dense(1, activation='sigmoid'))"
   ]
  },
  {
   "cell_type": "code",
   "execution_count": 25,
   "metadata": {},
   "outputs": [
    {
     "name": "stdout",
     "output_type": "stream",
     "text": [
      "Model: \"sequential\"\n",
      "_________________________________________________________________\n",
      "Layer (type)                 Output Shape              Param #   \n",
      "=================================================================\n",
      "block1_conv1 (Conv2D)        (None, 150, 150, 64)      1792      \n",
      "_________________________________________________________________\n",
      "block1_conv2 (Conv2D)        (None, 150, 150, 64)      36928     \n",
      "_________________________________________________________________\n",
      "block1_pool (MaxPooling2D)   (None, 75, 75, 64)        0         \n",
      "_________________________________________________________________\n",
      "block2_conv1 (Conv2D)        (None, 75, 75, 128)       73856     \n",
      "_________________________________________________________________\n",
      "block2_conv2 (Conv2D)        (None, 75, 75, 128)       147584    \n",
      "_________________________________________________________________\n",
      "block2_pool (MaxPooling2D)   (None, 37, 37, 128)       0         \n",
      "_________________________________________________________________\n",
      "block3_conv1 (Conv2D)        (None, 37, 37, 256)       295168    \n",
      "_________________________________________________________________\n",
      "block3_conv2 (Conv2D)        (None, 37, 37, 256)       590080    \n",
      "_________________________________________________________________\n",
      "block3_conv3 (Conv2D)        (None, 37, 37, 256)       590080    \n",
      "_________________________________________________________________\n",
      "block3_pool (MaxPooling2D)   (None, 18, 18, 256)       0         \n",
      "_________________________________________________________________\n",
      "block4_conv1 (Conv2D)        (None, 18, 18, 512)       1180160   \n",
      "_________________________________________________________________\n",
      "block4_conv2 (Conv2D)        (None, 18, 18, 512)       2359808   \n",
      "_________________________________________________________________\n",
      "block4_conv3 (Conv2D)        (None, 18, 18, 512)       2359808   \n",
      "_________________________________________________________________\n",
      "block4_pool (MaxPooling2D)   (None, 9, 9, 512)         0         \n",
      "_________________________________________________________________\n",
      "block5_conv1 (Conv2D)        (None, 9, 9, 512)         2359808   \n",
      "_________________________________________________________________\n",
      "block5_conv2 (Conv2D)        (None, 9, 9, 512)         2359808   \n",
      "_________________________________________________________________\n",
      "block5_conv3 (Conv2D)        (None, 9, 9, 512)         2359808   \n",
      "_________________________________________________________________\n",
      "block5_pool (MaxPooling2D)   (None, 4, 4, 512)         0         \n",
      "_________________________________________________________________\n",
      "flatten (Flatten)            (None, 8192)              0         \n",
      "_________________________________________________________________\n",
      "dense (Dense)                (None, 128)               1048704   \n",
      "_________________________________________________________________\n",
      "dense_1 (Dense)              (None, 64)                8256      \n",
      "_________________________________________________________________\n",
      "dense_2 (Dense)              (None, 1)                 65        \n",
      "=================================================================\n",
      "Total params: 15,771,713\n",
      "Trainable params: 1,057,025\n",
      "Non-trainable params: 14,714,688\n",
      "_________________________________________________________________\n"
     ]
    }
   ],
   "source": [
    "model.summary()"
   ]
  },
  {
   "cell_type": "code",
   "execution_count": 26,
   "metadata": {},
   "outputs": [],
   "source": [
    "model.compile(Adam(lr=0.0001), loss='binary_crossentropy', \n",
    "              metrics=['accuracy'])\n"
   ]
  },
  {
   "cell_type": "code",
   "execution_count": 27,
   "metadata": {},
   "outputs": [],
   "source": [
    "# model.compile(optimizer='adam',\n",
    "#               loss='binary_crossentropy', metrics=['accuracy', 'mse', 'Precision', 'Recall'])"
   ]
  },
  {
   "cell_type": "code",
   "execution_count": 28,
   "metadata": {},
   "outputs": [
    {
     "name": "stdout",
     "output_type": "stream",
     "text": [
      "Epoch 1/40\n",
      "72/72 [==============================] - 11s 146ms/step - loss: 0.6653 - accuracy: 0.5943 - val_loss: 0.6354 - val_accuracy: 0.6289\n",
      "Epoch 2/40\n",
      "72/72 [==============================] - 10s 133ms/step - loss: 0.6129 - accuracy: 0.6682 - val_loss: 0.5969 - val_accuracy: 0.6911\n",
      "Epoch 3/40\n",
      "72/72 [==============================] - 9s 131ms/step - loss: 0.5711 - accuracy: 0.7079 - val_loss: 0.5720 - val_accuracy: 0.7133\n",
      "Epoch 4/40\n",
      "72/72 [==============================] - 10s 132ms/step - loss: 0.5486 - accuracy: 0.7261 - val_loss: 0.5560 - val_accuracy: 0.7150\n",
      "Epoch 5/40\n",
      "72/72 [==============================] - 10s 132ms/step - loss: 0.5266 - accuracy: 0.7386 - val_loss: 0.5530 - val_accuracy: 0.7178\n",
      "Epoch 6/40\n",
      "72/72 [==============================] - 9s 132ms/step - loss: 0.5174 - accuracy: 0.7432 - val_loss: 0.5406 - val_accuracy: 0.7256\n",
      "Epoch 7/40\n",
      "72/72 [==============================] - 10s 134ms/step - loss: 0.4998 - accuracy: 0.7563 - val_loss: 0.5324 - val_accuracy: 0.7389\n",
      "Epoch 8/40\n",
      "72/72 [==============================] - 10s 135ms/step - loss: 0.4774 - accuracy: 0.7722 - val_loss: 0.5355 - val_accuracy: 0.7300\n",
      "Epoch 9/40\n",
      "72/72 [==============================] - 9s 132ms/step - loss: 0.4682 - accuracy: 0.7776 - val_loss: 0.5070 - val_accuracy: 0.7472\n",
      "Epoch 10/40\n",
      "72/72 [==============================] - 9s 131ms/step - loss: 0.4570 - accuracy: 0.7829 - val_loss: 0.5175 - val_accuracy: 0.7461\n",
      "Epoch 11/40\n",
      "72/72 [==============================] - 9s 131ms/step - loss: 0.4383 - accuracy: 0.7999 - val_loss: 0.4976 - val_accuracy: 0.7556\n",
      "Epoch 12/40\n",
      "72/72 [==============================] - 9s 132ms/step - loss: 0.4301 - accuracy: 0.8049 - val_loss: 0.4887 - val_accuracy: 0.7633\n",
      "Epoch 13/40\n",
      "72/72 [==============================] - 10s 132ms/step - loss: 0.4152 - accuracy: 0.8117 - val_loss: 0.4872 - val_accuracy: 0.7661\n",
      "Epoch 14/40\n",
      "72/72 [==============================] - 10s 133ms/step - loss: 0.4042 - accuracy: 0.8176 - val_loss: 0.4757 - val_accuracy: 0.7689\n",
      "Epoch 15/40\n",
      "72/72 [==============================] - 9s 131ms/step - loss: 0.3980 - accuracy: 0.8218 - val_loss: 0.4698 - val_accuracy: 0.7794\n",
      "Epoch 16/40\n",
      "72/72 [==============================] - 10s 132ms/step - loss: 0.3894 - accuracy: 0.8297 - val_loss: 0.5068 - val_accuracy: 0.7528\n",
      "Epoch 17/40\n",
      "72/72 [==============================] - 10s 132ms/step - loss: 0.3790 - accuracy: 0.8343 - val_loss: 0.4746 - val_accuracy: 0.7783\n",
      "Epoch 18/40\n",
      "72/72 [==============================] - 10s 134ms/step - loss: 0.3723 - accuracy: 0.8365 - val_loss: 0.4748 - val_accuracy: 0.7639\n",
      "Epoch 19/40\n",
      "72/72 [==============================] - 9s 132ms/step - loss: 0.3502 - accuracy: 0.8535 - val_loss: 0.4467 - val_accuracy: 0.7961\n",
      "Epoch 20/40\n",
      "72/72 [==============================] - 10s 135ms/step - loss: 0.3487 - accuracy: 0.8494 - val_loss: 0.4818 - val_accuracy: 0.7733\n",
      "Epoch 21/40\n",
      "72/72 [==============================] - 10s 133ms/step - loss: 0.3290 - accuracy: 0.8661 - val_loss: 0.4397 - val_accuracy: 0.7972\n",
      "Epoch 22/40\n",
      "72/72 [==============================] - 9s 132ms/step - loss: 0.3272 - accuracy: 0.8653 - val_loss: 0.4374 - val_accuracy: 0.7983\n",
      "Epoch 23/40\n",
      "72/72 [==============================] - 9s 132ms/step - loss: 0.3151 - accuracy: 0.8703 - val_loss: 0.4276 - val_accuracy: 0.8011\n",
      "Epoch 24/40\n",
      "72/72 [==============================] - 10s 132ms/step - loss: 0.3052 - accuracy: 0.8793 - val_loss: 0.4342 - val_accuracy: 0.8033\n",
      "Epoch 25/40\n",
      "72/72 [==============================] - 10s 133ms/step - loss: 0.3031 - accuracy: 0.8760 - val_loss: 0.4203 - val_accuracy: 0.8011\n",
      "Epoch 26/40\n",
      "72/72 [==============================] - 10s 134ms/step - loss: 0.2941 - accuracy: 0.8843 - val_loss: 0.4678 - val_accuracy: 0.7900\n",
      "Epoch 27/40\n",
      "72/72 [==============================] - 10s 132ms/step - loss: 0.2883 - accuracy: 0.8840 - val_loss: 0.4090 - val_accuracy: 0.8172\n",
      "Epoch 28/40\n",
      "72/72 [==============================] - 10s 133ms/step - loss: 0.2793 - accuracy: 0.8876 - val_loss: 0.4100 - val_accuracy: 0.8178\n",
      "Epoch 29/40\n",
      "72/72 [==============================] - 9s 132ms/step - loss: 0.2692 - accuracy: 0.8915 - val_loss: 0.4025 - val_accuracy: 0.8217\n",
      "Epoch 30/40\n",
      "72/72 [==============================] - 9s 131ms/step - loss: 0.2626 - accuracy: 0.8971 - val_loss: 0.4038 - val_accuracy: 0.8211\n",
      "Epoch 31/40\n",
      "72/72 [==============================] - 10s 133ms/step - loss: 0.2500 - accuracy: 0.9071 - val_loss: 0.4033 - val_accuracy: 0.8200\n",
      "Epoch 32/40\n",
      "72/72 [==============================] - 10s 133ms/step - loss: 0.2485 - accuracy: 0.9064 - val_loss: 0.4001 - val_accuracy: 0.8161\n",
      "Epoch 33/40\n",
      "72/72 [==============================] - 10s 134ms/step - loss: 0.2443 - accuracy: 0.9044 - val_loss: 0.3925 - val_accuracy: 0.8283\n",
      "Epoch 34/40\n",
      "72/72 [==============================] - 9s 132ms/step - loss: 0.2291 - accuracy: 0.9175 - val_loss: 0.4374 - val_accuracy: 0.8156\n",
      "Epoch 35/40\n",
      "72/72 [==============================] - 10s 133ms/step - loss: 0.2395 - accuracy: 0.9075 - val_loss: 0.3887 - val_accuracy: 0.8306\n",
      "Epoch 36/40\n",
      "72/72 [==============================] - 9s 132ms/step - loss: 0.2220 - accuracy: 0.9165 - val_loss: 0.4074 - val_accuracy: 0.8272\n",
      "Epoch 37/40\n",
      "72/72 [==============================] - 9s 132ms/step - loss: 0.2113 - accuracy: 0.9250 - val_loss: 0.3828 - val_accuracy: 0.8333\n",
      "Epoch 38/40\n",
      "72/72 [==============================] - 10s 133ms/step - loss: 0.2139 - accuracy: 0.9199 - val_loss: 0.3852 - val_accuracy: 0.8350\n",
      "Epoch 39/40\n",
      "72/72 [==============================] - 10s 135ms/step - loss: 0.2022 - accuracy: 0.9287 - val_loss: 0.4511 - val_accuracy: 0.8067\n",
      "Epoch 40/40\n",
      "72/72 [==============================] - 9s 132ms/step - loss: 0.2046 - accuracy: 0.9253 - val_loss: 0.3952 - val_accuracy: 0.8317\n"
     ]
    }
   ],
   "source": [
    "history = model.fit(X, y, batch_size=100, epochs = 40, validation_split=0.2)"
   ]
  },
  {
   "cell_type": "code",
   "execution_count": 30,
   "metadata": {},
   "outputs": [
    {
     "data": {
      "image/png": "[encoded data removed]",
      "text/plain": [
       "<Figure size 864x576 with 1 Axes>"
      ]
     },
     "metadata": {
      "needs_background": "light"
     },
     "output_type": "display_data"
    }
   ],
   "source": [
    "train_loss = history.history['loss']\n",
    "test_loss = history.history['val_loss']\n",
    "\n",
    "# Set figure size.\n",
    "plt.figure(figsize=(12, 8))\n",
    "\n",
    "# Generate line plot of training, testing loss over epochs.\n",
    "plt.plot(train_loss, label='Training Loss', color='#185fad')\n",
    "plt.plot(test_loss, label='Testing Loss', color='orange')\n",
    "\n",
    "# Set title\n",
    "plt.title('Training and Testing Loss by Epoch', fontsize = 25)\n",
    "plt.xlabel('Epoch', fontsize = 18)\n",
    "plt.ylabel('binary Crossentropy', fontsize = 18)\n",
    "plt.xticks(np.arange(40), np.arange(40))\n",
    "\n",
    "plt.legend(fontsize = 18);"
   ]
  },
  {
   "cell_type": "code",
   "execution_count": 31,
   "metadata": {},
   "outputs": [
    {
     "data": {
      "image/png": "[encoded data removed]",
      "text/plain": [
       "<Figure size 864x576 with 1 Axes>"
      ]
     },
     "metadata": {
      "needs_background": "light"
     },
     "output_type": "display_data"
    }
   ],
   "source": [
    "train_acc = history.history['accuracy']\n",
    "test_acc = history.history['val_accuracy']\n",
    "\n",
    "# Set figure size.\n",
    "plt.figure(figsize=(12, 8))\n",
    "\n",
    "# Generate line plot of training, testing loss over epochs.\n",
    "plt.plot(train_acc, label='Training accuracy', color='#185fad')\n",
    "plt.plot(test_acc, label='Testing accuracy', color='orange')\n",
    "\n",
    "# Set title\n",
    "plt.title('Training and Testing accuracy by Epoch', fontsize = 25)\n",
    "plt.xlabel('Epoch', fontsize = 18)\n",
    "plt.ylabel('Categorical Crossentropy', fontsize = 18)\n",
    "plt.xticks(np.arange(40), np.arange(40))\n",
    "\n",
    "plt.legend(fontsize = 18);"
   ]
  },
  {
   "cell_type": "code",
   "execution_count": null,
   "metadata": {},
   "outputs": [],
   "source": []
  }
 ],
 "metadata": {
  "kernelspec": {
   "display_name": "Python 3",
   "language": "python",
   "name": "python3"
  },
  "language_info": {
   "codemirror_mode": {
    "name": "ipython",
    "version": 3
   },
   "file_extension": ".py",
   "mimetype": "text/x-python",
   "name": "python",
   "nbconvert_exporter": "python",
   "pygments_lexer": "ipython3",
   "version": "3.7.7"
  }
 },
 "nbformat": 4,
 "nbformat_minor": 4
}
