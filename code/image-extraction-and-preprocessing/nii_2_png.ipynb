{
 "cells": [
  {
   "cell_type": "code",
   "execution_count": 1,
   "metadata": {},
   "outputs": [],
   "source": [
    "import os\n",
    "import nibabel as nb\n",
    "import nii2png1"
   ]
  },
  {
   "cell_type": "code",
   "execution_count": 14,
   "metadata": {},
   "outputs": [],
   "source": [
    "def extract_nii(input_dir, output_dir):\n",
    "    '''\n",
    "    iterate through a directory containing nii files and extract png images\n",
    "    '''\n",
    "    \n",
    "    for i in os.listdir (input_dir):\n",
    "        if i != '.DS_Store': \n",
    "            %run nii2png1.py -i {input_dir}{i} -o {output_dir} #converting nii to png using nii2png library"
   ]
  },
  {
   "cell_type": "code",
   "execution_count": 23,
   "metadata": {},
   "outputs": [],
   "source": [
    "def delete_marginal_png (input_dir):\n",
    "    '''\n",
    "    iterate through a directory containing nii files and extract png images\n",
    "    '''\n",
    "    \n",
    "    for file in os.listdir(input_dir):\n",
    "        if file != '.DS_Store':\n",
    "            if int(file[-7:-4]) <50 or int(file[-7:-4]) > 120:\n",
    "                os.remove(input_dir+file)"
   ]
  },
  {
   "cell_type": "markdown",
   "metadata": {},
   "source": [
    "**training data**"
   ]
  },
  {
   "cell_type": "code",
   "execution_count": 10,
   "metadata": {},
   "outputs": [],
   "source": [
    "AD_input_nii_ss = \"/Users/ferasaltwal/Documents/DSI/New-Capstone/nii-skull-stripped/train/AD-nii/\"\n",
    "MCI_input_nii_ss = \"/Users/ferasaltwal/Documents/DSI/New-Capstone/nii-skull-stripped/train/MCI-nii/\"\n",
    "CN_input_nii_ss = \"/Users/ferasaltwal/Documents/DSI/New-Capstone/nii-skull-stripped/train/CN-nii/\""
   ]
  },
  {
   "cell_type": "code",
   "execution_count": 27,
   "metadata": {},
   "outputs": [],
   "source": [
    "AD_output_png_ss = '/Users/ferasaltwal/Documents/DSI/New-Capstone/extracted-png-skull-stripped/train/AD/'\n",
    "MCI_output_png_ss = '/Users/ferasaltwal/Documents/DSI/New-Capstone/extracted-png-skull-stripped/train/MCI/'\n",
    "CN_output_png_ss = '/Users/ferasaltwal/Documents/DSI/New-Capstone/extracted-png-skull-stripped/train/CN/'"
   ]
  },
  {
   "cell_type": "code",
   "execution_count": null,
   "metadata": {},
   "outputs": [],
   "source": [
    "extract_nii(AD_input_nii_ss, AD_output_png_ss)"
   ]
  },
  {
   "cell_type": "code",
   "execution_count": null,
   "metadata": {},
   "outputs": [],
   "source": [
    "extract_nii(MCI_input_nii_ss, MCI_output_png_ss)"
   ]
  },
  {
   "cell_type": "code",
   "execution_count": null,
   "metadata": {},
   "outputs": [],
   "source": [
    "extract_nii(CN_input_nii_ss, CN_output_png_ss)"
   ]
  },
  {
   "cell_type": "markdown",
   "metadata": {},
   "source": [
    "**testing data**"
   ]
  },
  {
   "cell_type": "code",
   "execution_count": 17,
   "metadata": {},
   "outputs": [],
   "source": [
    "AD_input_nii_ss = \"/Users/ferasaltwal/Documents/DSI/New-Capstone/nii-skull-stripped/test/AD-nii/\"\n",
    "MCI_input_nii_ss = \"/Users/ferasaltwal/Documents/DSI/New-Capstone/nii-skull-stripped/test/MCI-nii/\"\n",
    "CN_input_nii_ss = \"/Users/ferasaltwal/Documents/DSI/New-Capstone/nii-skull-stripped/test/CN-nii/\""
   ]
  },
  {
   "cell_type": "code",
   "execution_count": 28,
   "metadata": {},
   "outputs": [],
   "source": [
    "AD_output_png_ss_test = '/Users/ferasaltwal/Documents/DSI/New-Capstone/extracted-png-skull-stripped/test/AD/'\n",
    "MCI_output_png_ss_test = '/Users/ferasaltwal/Documents/DSI/New-Capstone/extracted-png-skull-stripped/test/MCI/'\n",
    "CN_output_png_ss_test = '/Users/ferasaltwal/Documents/DSI/New-Capstone/extracted-png-skull-stripped/test/CN/'"
   ]
  },
  {
   "cell_type": "code",
   "execution_count": null,
   "metadata": {},
   "outputs": [],
   "source": [
    "extract_nii(AD_input_nii_ss, AD_output_png_ss)"
   ]
  },
  {
   "cell_type": "code",
   "execution_count": null,
   "metadata": {},
   "outputs": [],
   "source": [
    "extract_nii(MCI_input_nii_ss, MCI_output_png_ss)"
   ]
  },
  {
   "cell_type": "code",
   "execution_count": null,
   "metadata": {},
   "outputs": [],
   "source": [
    "extract_nii(CN_input_nii_ss, CN_output_png_ss)"
   ]
  },
  {
   "cell_type": "markdown",
   "metadata": {},
   "source": [
    "### Removing PNG files from edges (contains less brain structure)"
   ]
  },
  {
   "cell_type": "markdown",
   "metadata": {},
   "source": [
    "**training data**"
   ]
  },
  {
   "cell_type": "code",
   "execution_count": 29,
   "metadata": {},
   "outputs": [],
   "source": [
    "delete_marginal_png (AD_output_png_ss)"
   ]
  },
  {
   "cell_type": "code",
   "execution_count": 30,
   "metadata": {},
   "outputs": [],
   "source": [
    "delete_marginal_png (MCI_output_png_ss)"
   ]
  },
  {
   "cell_type": "code",
   "execution_count": 31,
   "metadata": {},
   "outputs": [],
   "source": [
    "delete_marginal_png (CN_output_png_ss)"
   ]
  },
  {
   "cell_type": "markdown",
   "metadata": {},
   "source": [
    "**testing data**"
   ]
  },
  {
   "cell_type": "code",
   "execution_count": 32,
   "metadata": {},
   "outputs": [],
   "source": [
    "delete_marginal_png (AD_output_png_ss_test)"
   ]
  },
  {
   "cell_type": "code",
   "execution_count": 33,
   "metadata": {},
   "outputs": [],
   "source": [
    "delete_marginal_png (MCI_output_png_ss_test)"
   ]
  },
  {
   "cell_type": "code",
   "execution_count": 34,
   "metadata": {},
   "outputs": [],
   "source": [
    "delete_marginal_png (CN_output_png_ss_test)"
   ]
  },
  {
   "cell_type": "code",
   "execution_count": null,
   "metadata": {},
   "outputs": [],
   "source": []
  }
 ],
 "metadata": {
  "kernelspec": {
   "display_name": "Python 3",
   "language": "python",
   "name": "python3"
  },
  "language_info": {
   "codemirror_mode": {
    "name": "ipython",
    "version": 3
   },
   "file_extension": ".py",
   "mimetype": "text/x-python",
   "name": "python",
   "nbconvert_exporter": "python",
   "pygments_lexer": "ipython3",
   "version": "3.7.7"
  }
 },
 "nbformat": 4,
 "nbformat_minor": 4
}
