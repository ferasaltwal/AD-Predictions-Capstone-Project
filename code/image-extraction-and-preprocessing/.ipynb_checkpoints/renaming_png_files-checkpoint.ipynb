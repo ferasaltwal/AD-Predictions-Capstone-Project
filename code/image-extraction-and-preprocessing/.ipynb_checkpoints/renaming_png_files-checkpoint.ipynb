{
 "cells": [
  {
   "cell_type": "code",
   "execution_count": 1,
   "metadata": {},
   "outputs": [],
   "source": [
    "import os\n",
    "import shutil"
   ]
  },
  {
   "cell_type": "code",
   "execution_count": 3,
   "metadata": {},
   "outputs": [],
   "source": [
    "input_dir = '/Users/ferasaltwal/Documents/DSI/New-Capstone/extracted-png-renamed-skull-stripped/train'"
   ]
  },
  {
   "cell_type": "code",
   "execution_count": 4,
   "metadata": {},
   "outputs": [],
   "source": [
    "#renaming the long names of nii files to make more sense\n",
    "for file in os.listdir(input_dir):\n",
    "    if file != '.DS_Store':\n",
    "        for img in os.listdir(os.path.join(input_dir, file)):\n",
    "            if img != '.DS_Store':\n",
    "                os.rename(os.path.join(os.path.join(input_dir, file),img), os.path.join(os.path.join(input_dir, file),file+'_'+img))"
   ]
  },
  {
   "cell_type": "code",
   "execution_count": 5,
   "metadata": {},
   "outputs": [],
   "source": [
    "test_input_dir = '/Users/ferasaltwal/Documents/DSI/New-Capstone/extracted-png-renamed-skull-stripped/test'"
   ]
  },
  {
   "cell_type": "code",
   "execution_count": 6,
   "metadata": {},
   "outputs": [],
   "source": [
    "#same for test images\n",
    "for file in os.listdir(test_input_dir):\n",
    "    if file != '.DS_Store':\n",
    "        for img in os.listdir(os.path.join(test_input_dir, file)):\n",
    "            if img != '.DS_Store':\n",
    "                os.rename(os.path.join(os.path.join(test_input_dir, file),img), os.path.join(os.path.join(test_input_dir, file),file+'_'+img))"
   ]
  },
  {
   "cell_type": "code",
   "execution_count": null,
   "metadata": {},
   "outputs": [],
   "source": []
  }
 ],
 "metadata": {
  "kernelspec": {
   "display_name": "Python 3",
   "language": "python",
   "name": "python3"
  },
  "language_info": {
   "codemirror_mode": {
    "name": "ipython",
    "version": 3
   },
   "file_extension": ".py",
   "mimetype": "text/x-python",
   "name": "python",
   "nbconvert_exporter": "python",
   "pygments_lexer": "ipython3",
   "version": "3.7.7"
  }
 },
 "nbformat": 4,
 "nbformat_minor": 4
}
