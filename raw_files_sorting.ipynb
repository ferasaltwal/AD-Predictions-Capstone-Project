{
 "cells": [
  {
   "cell_type": "code",
   "execution_count": 75,
   "metadata": {},
   "outputs": [],
   "source": [
    "import pandas as pd\n",
    "import os\n",
    "from tqdm import tqdm\n",
    "from shutil import copyfile, copytree"
   ]
  },
  {
   "cell_type": "code",
   "execution_count": 4,
   "metadata": {},
   "outputs": [],
   "source": [
    "patients_data = pd.read_csv('datasets/ADNI1_Complete_1Yr_1.5T_11_04_2020.csv')"
   ]
  },
  {
   "cell_type": "code",
   "execution_count": 17,
   "metadata": {},
   "outputs": [
    {
     "data": {
      "text/html": [
       "<div>\n",
       "<style scoped>\n",
       "    .dataframe tbody tr th:only-of-type {\n",
       "        vertical-align: middle;\n",
       "    }\n",
       "\n",
       "    .dataframe tbody tr th {\n",
       "        vertical-align: top;\n",
       "    }\n",
       "\n",
       "    .dataframe thead th {\n",
       "        text-align: right;\n",
       "    }\n",
       "</style>\n",
       "<table border=\"1\" class=\"dataframe\">\n",
       "  <thead>\n",
       "    <tr style=\"text-align: right;\">\n",
       "      <th></th>\n",
       "      <th>Image Data ID</th>\n",
       "      <th>Subject</th>\n",
       "      <th>Group</th>\n",
       "      <th>Sex</th>\n",
       "      <th>Age</th>\n",
       "      <th>Visit</th>\n",
       "      <th>Modality</th>\n",
       "      <th>Description</th>\n",
       "      <th>Type</th>\n",
       "      <th>Acq Date</th>\n",
       "      <th>Format</th>\n",
       "      <th>Downloaded</th>\n",
       "    </tr>\n",
       "  </thead>\n",
       "  <tbody>\n",
       "    <tr>\n",
       "      <th>0</th>\n",
       "      <td>I64025</td>\n",
       "      <td>002_S_0295</td>\n",
       "      <td>CN</td>\n",
       "      <td>M</td>\n",
       "      <td>86</td>\n",
       "      <td>4</td>\n",
       "      <td>MRI</td>\n",
       "      <td>MPR; GradWarp; B1 Correction; N3; Scaled</td>\n",
       "      <td>Processed</td>\n",
       "      <td>5/25/2007</td>\n",
       "      <td>NiFTI</td>\n",
       "      <td>10/20/2020</td>\n",
       "    </tr>\n",
       "    <tr>\n",
       "      <th>1</th>\n",
       "      <td>I40966</td>\n",
       "      <td>002_S_0295</td>\n",
       "      <td>CN</td>\n",
       "      <td>M</td>\n",
       "      <td>85</td>\n",
       "      <td>3</td>\n",
       "      <td>MRI</td>\n",
       "      <td>MPR; GradWarp; B1 Correction; N3; Scaled</td>\n",
       "      <td>Processed</td>\n",
       "      <td>11/02/2006</td>\n",
       "      <td>NiFTI</td>\n",
       "      <td>10/20/2020</td>\n",
       "    </tr>\n",
       "    <tr>\n",
       "      <th>2</th>\n",
       "      <td>I118692</td>\n",
       "      <td>002_S_0295</td>\n",
       "      <td>CN</td>\n",
       "      <td>M</td>\n",
       "      <td>85</td>\n",
       "      <td>3</td>\n",
       "      <td>MRI</td>\n",
       "      <td>MPR; GradWarp; B1 Correction; N3; Scaled_2</td>\n",
       "      <td>Processed</td>\n",
       "      <td>11/02/2006</td>\n",
       "      <td>NiFTI</td>\n",
       "      <td>10/20/2020</td>\n",
       "    </tr>\n",
       "    <tr>\n",
       "      <th>3</th>\n",
       "      <td>I45108</td>\n",
       "      <td>002_S_0295</td>\n",
       "      <td>CN</td>\n",
       "      <td>M</td>\n",
       "      <td>85</td>\n",
       "      <td>1</td>\n",
       "      <td>MRI</td>\n",
       "      <td>MPR; GradWarp; B1 Correction; N3; Scaled</td>\n",
       "      <td>Processed</td>\n",
       "      <td>4/18/2006</td>\n",
       "      <td>NiFTI</td>\n",
       "      <td>10/20/2020</td>\n",
       "    </tr>\n",
       "    <tr>\n",
       "      <th>4</th>\n",
       "      <td>I118671</td>\n",
       "      <td>002_S_0295</td>\n",
       "      <td>CN</td>\n",
       "      <td>M</td>\n",
       "      <td>85</td>\n",
       "      <td>1</td>\n",
       "      <td>MRI</td>\n",
       "      <td>MPR; GradWarp; B1 Correction; N3; Scaled_2</td>\n",
       "      <td>Processed</td>\n",
       "      <td>4/18/2006</td>\n",
       "      <td>NiFTI</td>\n",
       "      <td>10/20/2020</td>\n",
       "    </tr>\n",
       "    <tr>\n",
       "      <th>5</th>\n",
       "      <td>I60008</td>\n",
       "      <td>002_S_0413</td>\n",
       "      <td>CN</td>\n",
       "      <td>F</td>\n",
       "      <td>77</td>\n",
       "      <td>4</td>\n",
       "      <td>MRI</td>\n",
       "      <td>MPR; GradWarp; B1 Correction; N3; Scaled</td>\n",
       "      <td>Processed</td>\n",
       "      <td>6/01/2007</td>\n",
       "      <td>NiFTI</td>\n",
       "      <td>10/20/2020</td>\n",
       "    </tr>\n",
       "  </tbody>\n",
       "</table>\n",
       "</div>"
      ],
      "text/plain": [
       "  Image Data ID     Subject Group Sex  Age  Visit Modality  \\\n",
       "0        I64025  002_S_0295    CN   M   86      4      MRI   \n",
       "1        I40966  002_S_0295    CN   M   85      3      MRI   \n",
       "2       I118692  002_S_0295    CN   M   85      3      MRI   \n",
       "3        I45108  002_S_0295    CN   M   85      1      MRI   \n",
       "4       I118671  002_S_0295    CN   M   85      1      MRI   \n",
       "5        I60008  002_S_0413    CN   F   77      4      MRI   \n",
       "\n",
       "                                  Description       Type    Acq Date Format  \\\n",
       "0    MPR; GradWarp; B1 Correction; N3; Scaled  Processed   5/25/2007  NiFTI   \n",
       "1    MPR; GradWarp; B1 Correction; N3; Scaled  Processed  11/02/2006  NiFTI   \n",
       "2  MPR; GradWarp; B1 Correction; N3; Scaled_2  Processed  11/02/2006  NiFTI   \n",
       "3    MPR; GradWarp; B1 Correction; N3; Scaled  Processed   4/18/2006  NiFTI   \n",
       "4  MPR; GradWarp; B1 Correction; N3; Scaled_2  Processed   4/18/2006  NiFTI   \n",
       "5    MPR; GradWarp; B1 Correction; N3; Scaled  Processed   6/01/2007  NiFTI   \n",
       "\n",
       "   Downloaded  \n",
       "0  10/20/2020  \n",
       "1  10/20/2020  \n",
       "2  10/20/2020  \n",
       "3  10/20/2020  \n",
       "4  10/20/2020  \n",
       "5  10/20/2020  "
      ]
     },
     "execution_count": 17,
     "metadata": {},
     "output_type": "execute_result"
    }
   ],
   "source": [
    "patients_data[:6]"
   ]
  },
  {
   "cell_type": "markdown",
   "metadata": {},
   "source": [
    "since all of raw folders are mixed up (AD, MCI, CN), let's try to organize them into folders for each class"
   ]
  },
  {
   "cell_type": "code",
   "execution_count": 79,
   "metadata": {},
   "outputs": [],
   "source": [
    "input_path = '/Volumes/Time Machine Backups/ADNI/ADNI_434_subjects_1.5T/ADNI'\n",
    "AD_path = '/Users/ferasaltwal/Documents/DSI/Capstone/raw-data-sorted/AD/'\n",
    "MCI_path = '/Users/ferasaltwal/Documents/DSI/Capstone/raw-data-sorted/MCI/'\n",
    "CN_path = '/Users/ferasaltwal/Documents/DSI/Capstone/raw-data-sorted/CN/'"
   ]
  },
  {
   "cell_type": "markdown",
   "metadata": {},
   "source": [
    "#iterate through the raw folders\n",
    "for file in os.listdir(input_path):   \n",
    "    \n",
    "    #ignoring .DS_Store file\n",
    "    if file != '.DS_Store':                \n",
    "        \n",
    "        #making a new datafram with Group class (AD, MCI, or CN)\n",
    "        new = patients_data[patients_data['Subject'] == file]['Group']\n",
    "        new.reset_index(inplace=True, drop=True)\n",
    "        \n",
    "        #making src and dst paths for the copytree method\n",
    "        src = os.path.join(input_path, file)\n",
    "        AD_dst = os.path.join(AD_path, file)\n",
    "        MCI_dst = os.path.join(MCI_path, file)\n",
    "        CN_dst = os.path.join(CN_path, file)\n",
    "        \n",
    "        \n",
    "        if new[0] == 'AD':\n",
    "            copytree(src, AD_dst)\n",
    "        elif new[0] == 'MCI':\n",
    "            copytree(src, MCI_dst)\n",
    "        elif new[0] == 'CN':\n",
    "            copytree(src, CN_dst)"
   ]
  },
  {
   "cell_type": "code",
   "execution_count": 98,
   "metadata": {},
   "outputs": [],
   "source": [
    "input_path_AD = '/Users/ferasaltwal/Documents/DSI/Capstone/raw-data-sorted/AD/'\n",
    "input_path_MCI = '/Users/ferasaltwal/Documents/DSI/Capstone/raw-data-sorted/MCI/'\n",
    "input_path_CN = '/Users/ferasaltwal/Documents/DSI/Capstone/raw-data-sorted/CN/'\n",
    "\n",
    "output_nii_AD = '/Users/ferasaltwal/Documents/DSI/Capstone/nii_sorted/AD'\n",
    "output_nii_MCI = '/Users/ferasaltwal/Documents/DSI/Capstone/nii_sorted/MCI'\n",
    "output_nii_CN = '/Users/ferasaltwal/Documents/DSI/Capstone/nii_sorted/CN'"
   ]
  },
  {
   "cell_type": "code",
   "execution_count": 100,
   "metadata": {},
   "outputs": [],
   "source": [
    "def sort_nii(input_path, dst):\n",
    "    \n",
    "    for file in os.listdir(input_path):\n",
    "        if file != '.DS_Store':\n",
    "            for i in os.listdir(os.path.join(input_path, file)):\n",
    "                if i != '.DS_Store':\n",
    "                    for n in os.listdir(os.path.join(os.path.join(input_path, file), i)):\n",
    "                        if n != '.DS_Store':\n",
    "                            for z in os.listdir(os.path.join(os.path.join(os.path.join(input_path, file), i), n)):\n",
    "                                if z != '.DS_Store':\n",
    "                                    for nii in os.listdir(os.path.join(os.path.join(os.path.join(os.path.join(input_path, file), i), n), z)):\n",
    "                                        if nii != '.DS_Store':\n",
    "                                            new_src = os.path.join(os.path.join(os.path.join(os.path.join(os.path.join(input_path, file), i), n), z), nii)\n",
    "                                            new_dst = os.path.join(dst, nii)\n",
    "                                            copyfile(new_src, new_dst)"
   ]
  },
  {
   "cell_type": "code",
   "execution_count": 101,
   "metadata": {},
   "outputs": [],
   "source": [
    "sort_nii(input_path_AD, output_nii_AD)"
   ]
  },
  {
   "cell_type": "code",
   "execution_count": 102,
   "metadata": {},
   "outputs": [],
   "source": [
    "sort_nii(input_path_MCI, output_nii_MCI)"
   ]
  },
  {
   "cell_type": "raw",
   "metadata": {},
   "source": [
    "sort_nii(input_path_CN, output_nii_CN)"
   ]
  },
  {
   "cell_type": "code",
   "execution_count": null,
   "metadata": {},
   "outputs": [],
   "source": []
  },
  {
   "cell_type": "markdown",
   "metadata": {},
   "source": [
    "## same for test dataset"
   ]
  },
  {
   "cell_type": "code",
   "execution_count": 107,
   "metadata": {},
   "outputs": [],
   "source": [
    "input_AD_test = '/Users/ferasaltwal/Documents/DSI/Capstone/test_images/AD/'\n",
    "input_MCI_test = '/Users/ferasaltwal/Documents/DSI/Capstone/test_images/MCI/'\n",
    "input_CN_test = '/Users/ferasaltwal/Documents/DSI/Capstone/test_images/CN/'\n",
    "\n",
    "output_test_nii_AD = '/Users/ferasaltwal/Documents/DSI/Capstone/test_images/nii_sorted/AD/'\n",
    "output_test_nii_MCI = '/Users/ferasaltwal/Documents/DSI/Capstone/test_images/nii_sorted/MCI/'\n",
    "output_test_nii_CN = '/Users/ferasaltwal/Documents/DSI/Capstone/test_images/nii_sorted/CN/'"
   ]
  },
  {
   "cell_type": "code",
   "execution_count": 108,
   "metadata": {},
   "outputs": [],
   "source": [
    "sort_nii(input_AD_test, output_test_nii_AD)"
   ]
  },
  {
   "cell_type": "code",
   "execution_count": 109,
   "metadata": {},
   "outputs": [],
   "source": [
    "sort_nii(input_MCI_test, output_test_nii_MCI)"
   ]
  },
  {
   "cell_type": "code",
   "execution_count": 110,
   "metadata": {},
   "outputs": [],
   "source": [
    "sort_nii(input_CN_test, output_test_nii_CN)"
   ]
  },
  {
   "cell_type": "code",
   "execution_count": null,
   "metadata": {},
   "outputs": [],
   "source": []
  }
 ],
 "metadata": {
  "kernelspec": {
   "display_name": "Python 3",
   "language": "python",
   "name": "python3"
  },
  "language_info": {
   "codemirror_mode": {
    "name": "ipython",
    "version": 3
   },
   "file_extension": ".py",
   "mimetype": "text/x-python",
   "name": "python",
   "nbconvert_exporter": "python",
   "pygments_lexer": "ipython3",
   "version": "3.8.3"
  }
 },
 "nbformat": 4,
 "nbformat_minor": 4
}
