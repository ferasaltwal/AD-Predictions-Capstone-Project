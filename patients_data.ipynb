{
 "cells": [
  {
   "cell_type": "code",
<<<<<<< HEAD
   "execution_count": 39,
   "metadata": {},
   "outputs": [],
   "source": [
    "import pandas as pd\n",
    "import matplotlib.pyplot as plt\n",
    "import seaborn as sns"
=======
   "execution_count": 4,
   "metadata": {},
   "outputs": [],
   "source": [
    "import pandas as pd"
>>>>>>> f242af649c6ac8e78d1ef0702a79664282af2547
   ]
  },
  {
   "cell_type": "code",
<<<<<<< HEAD
   "execution_count": 30,
=======
   "execution_count": 5,
>>>>>>> f242af649c6ac8e78d1ef0702a79664282af2547
   "metadata": {},
   "outputs": [],
   "source": [
    "data = pd.read_csv('datasets/ADNI1_Complete_1Yr_1.5T_11_04_2020.csv')"
   ]
  },
  {
   "cell_type": "code",
<<<<<<< HEAD
   "execution_count": 31,
=======
   "execution_count": 6,
>>>>>>> f242af649c6ac8e78d1ef0702a79664282af2547
   "metadata": {},
   "outputs": [
    {
     "data": {
      "text/html": [
       "<div>\n",
       "<style scoped>\n",
       "    .dataframe tbody tr th:only-of-type {\n",
       "        vertical-align: middle;\n",
       "    }\n",
       "\n",
       "    .dataframe tbody tr th {\n",
       "        vertical-align: top;\n",
       "    }\n",
       "\n",
       "    .dataframe thead th {\n",
       "        text-align: right;\n",
       "    }\n",
       "</style>\n",
       "<table border=\"1\" class=\"dataframe\">\n",
       "  <thead>\n",
       "    <tr style=\"text-align: right;\">\n",
       "      <th></th>\n",
       "      <th>Image Data ID</th>\n",
       "      <th>Subject</th>\n",
       "      <th>Group</th>\n",
       "      <th>Sex</th>\n",
       "      <th>Age</th>\n",
       "      <th>Visit</th>\n",
       "      <th>Modality</th>\n",
       "      <th>Description</th>\n",
       "      <th>Type</th>\n",
       "      <th>Acq Date</th>\n",
       "      <th>Format</th>\n",
       "      <th>Downloaded</th>\n",
       "    </tr>\n",
       "  </thead>\n",
       "  <tbody>\n",
       "    <tr>\n",
       "      <th>0</th>\n",
       "      <td>I64025</td>\n",
       "      <td>002_S_0295</td>\n",
       "      <td>CN</td>\n",
       "      <td>M</td>\n",
       "      <td>86</td>\n",
       "      <td>4</td>\n",
       "      <td>MRI</td>\n",
       "      <td>MPR; GradWarp; B1 Correction; N3; Scaled</td>\n",
       "      <td>Processed</td>\n",
       "      <td>5/25/2007</td>\n",
       "      <td>NiFTI</td>\n",
       "      <td>10/20/2020</td>\n",
       "    </tr>\n",
       "    <tr>\n",
       "      <th>1</th>\n",
       "      <td>I40966</td>\n",
       "      <td>002_S_0295</td>\n",
       "      <td>CN</td>\n",
       "      <td>M</td>\n",
       "      <td>85</td>\n",
       "      <td>3</td>\n",
       "      <td>MRI</td>\n",
       "      <td>MPR; GradWarp; B1 Correction; N3; Scaled</td>\n",
       "      <td>Processed</td>\n",
       "      <td>11/02/2006</td>\n",
       "      <td>NiFTI</td>\n",
       "      <td>10/20/2020</td>\n",
       "    </tr>\n",
       "    <tr>\n",
       "      <th>2</th>\n",
       "      <td>I118692</td>\n",
       "      <td>002_S_0295</td>\n",
       "      <td>CN</td>\n",
       "      <td>M</td>\n",
       "      <td>85</td>\n",
       "      <td>3</td>\n",
       "      <td>MRI</td>\n",
       "      <td>MPR; GradWarp; B1 Correction; N3; Scaled_2</td>\n",
       "      <td>Processed</td>\n",
       "      <td>11/02/2006</td>\n",
       "      <td>NiFTI</td>\n",
       "      <td>10/20/2020</td>\n",
       "    </tr>\n",
       "    <tr>\n",
       "      <th>3</th>\n",
       "      <td>I45108</td>\n",
       "      <td>002_S_0295</td>\n",
       "      <td>CN</td>\n",
       "      <td>M</td>\n",
       "      <td>85</td>\n",
       "      <td>1</td>\n",
       "      <td>MRI</td>\n",
       "      <td>MPR; GradWarp; B1 Correction; N3; Scaled</td>\n",
       "      <td>Processed</td>\n",
       "      <td>4/18/2006</td>\n",
       "      <td>NiFTI</td>\n",
       "      <td>10/20/2020</td>\n",
       "    </tr>\n",
       "    <tr>\n",
       "      <th>4</th>\n",
       "      <td>I118671</td>\n",
       "      <td>002_S_0295</td>\n",
       "      <td>CN</td>\n",
       "      <td>M</td>\n",
       "      <td>85</td>\n",
       "      <td>1</td>\n",
       "      <td>MRI</td>\n",
       "      <td>MPR; GradWarp; B1 Correction; N3; Scaled_2</td>\n",
       "      <td>Processed</td>\n",
       "      <td>4/18/2006</td>\n",
       "      <td>NiFTI</td>\n",
       "      <td>10/20/2020</td>\n",
       "    </tr>\n",
       "  </tbody>\n",
       "</table>\n",
       "</div>"
      ],
      "text/plain": [
       "  Image Data ID     Subject Group Sex  Age  Visit Modality  \\\n",
       "0        I64025  002_S_0295    CN   M   86      4      MRI   \n",
       "1        I40966  002_S_0295    CN   M   85      3      MRI   \n",
       "2       I118692  002_S_0295    CN   M   85      3      MRI   \n",
       "3        I45108  002_S_0295    CN   M   85      1      MRI   \n",
       "4       I118671  002_S_0295    CN   M   85      1      MRI   \n",
       "\n",
       "                                  Description       Type    Acq Date Format  \\\n",
       "0    MPR; GradWarp; B1 Correction; N3; Scaled  Processed   5/25/2007  NiFTI   \n",
       "1    MPR; GradWarp; B1 Correction; N3; Scaled  Processed  11/02/2006  NiFTI   \n",
       "2  MPR; GradWarp; B1 Correction; N3; Scaled_2  Processed  11/02/2006  NiFTI   \n",
       "3    MPR; GradWarp; B1 Correction; N3; Scaled  Processed   4/18/2006  NiFTI   \n",
       "4  MPR; GradWarp; B1 Correction; N3; Scaled_2  Processed   4/18/2006  NiFTI   \n",
       "\n",
       "   Downloaded  \n",
       "0  10/20/2020  \n",
       "1  10/20/2020  \n",
       "2  10/20/2020  \n",
       "3  10/20/2020  \n",
       "4  10/20/2020  "
      ]
     },
<<<<<<< HEAD
     "execution_count": 31,
=======
     "execution_count": 6,
>>>>>>> f242af649c6ac8e78d1ef0702a79664282af2547
     "metadata": {},
     "output_type": "execute_result"
    }
   ],
   "source": [
    "data.head()"
   ]
  },
  {
   "cell_type": "code",
<<<<<<< HEAD
   "execution_count": 32,
=======
   "execution_count": 7,
>>>>>>> f242af649c6ac8e78d1ef0702a79664282af2547
   "metadata": {},
   "outputs": [
    {
     "data": {
      "text/plain": [
       "(2294, 12)"
      ]
     },
<<<<<<< HEAD
     "execution_count": 32,
=======
     "execution_count": 7,
>>>>>>> f242af649c6ac8e78d1ef0702a79664282af2547
     "metadata": {},
     "output_type": "execute_result"
    }
   ],
   "source": [
    "data.shape"
   ]
  },
  {
   "cell_type": "code",
<<<<<<< HEAD
   "execution_count": 33,
=======
   "execution_count": 8,
>>>>>>> f242af649c6ac8e78d1ef0702a79664282af2547
   "metadata": {},
   "outputs": [
    {
     "name": "stdout",
     "output_type": "stream",
     "text": [
      "<class 'pandas.core.frame.DataFrame'>\n",
      "RangeIndex: 2294 entries, 0 to 2293\n",
      "Data columns (total 12 columns):\n",
      " #   Column         Non-Null Count  Dtype \n",
      "---  ------         --------------  ----- \n",
      " 0   Image Data ID  2294 non-null   object\n",
      " 1   Subject        2294 non-null   object\n",
      " 2   Group          2294 non-null   object\n",
      " 3   Sex            2294 non-null   object\n",
      " 4   Age            2294 non-null   int64 \n",
      " 5   Visit          2294 non-null   int64 \n",
      " 6   Modality       2294 non-null   object\n",
      " 7   Description    2294 non-null   object\n",
      " 8   Type           2294 non-null   object\n",
      " 9   Acq Date       2294 non-null   object\n",
      " 10  Format         2294 non-null   object\n",
      " 11  Downloaded     2294 non-null   object\n",
      "dtypes: int64(2), object(10)\n",
      "memory usage: 215.2+ KB\n"
     ]
    }
   ],
   "source": [
    "data.info()"
   ]
  },
  {
   "cell_type": "code",
<<<<<<< HEAD
   "execution_count": 34,
   "metadata": {},
   "outputs": [
    {
     "data": {
      "text/html": [
       "<div>\n",
       "<style scoped>\n",
       "    .dataframe tbody tr th:only-of-type {\n",
       "        vertical-align: middle;\n",
       "    }\n",
       "\n",
       "    .dataframe tbody tr th {\n",
       "        vertical-align: top;\n",
       "    }\n",
       "\n",
       "    .dataframe thead th {\n",
       "        text-align: right;\n",
       "    }\n",
       "</style>\n",
       "<table border=\"1\" class=\"dataframe\">\n",
       "  <thead>\n",
       "    <tr style=\"text-align: right;\">\n",
       "      <th></th>\n",
       "      <th>Image Data ID</th>\n",
       "      <th>Subject</th>\n",
       "      <th>Group</th>\n",
       "      <th>Sex</th>\n",
       "      <th>Age</th>\n",
       "      <th>Visit</th>\n",
       "      <th>Modality</th>\n",
       "      <th>Description</th>\n",
       "      <th>Type</th>\n",
       "      <th>Acq Date</th>\n",
       "      <th>Format</th>\n",
       "      <th>Downloaded</th>\n",
       "    </tr>\n",
       "  </thead>\n",
       "  <tbody>\n",
       "  </tbody>\n",
       "</table>\n",
       "</div>"
      ],
      "text/plain": [
       "Empty DataFrame\n",
       "Columns: [Image Data ID, Subject, Group, Sex, Age, Visit, Modality, Description, Type, Acq Date, Format, Downloaded]\n",
       "Index: []"
      ]
     },
     "execution_count": 34,
     "metadata": {},
     "output_type": "execute_result"
    }
   ],
   "source": [
    "data[data['Subject'] == '128_S_0266']"
   ]
  },
  {
   "cell_type": "code",
   "execution_count": 35,
   "metadata": {},
   "outputs": [
    {
     "data": {
      "text/plain": [
       "'002_S_0295'"
      ]
     },
     "execution_count": 35,
     "metadata": {},
     "output_type": "execute_result"
    }
   ],
   "source": [
    "data.loc[1, 'Subject']"
   ]
  },
  {
   "cell_type": "code",
   "execution_count": 36,
   "metadata": {},
   "outputs": [],
   "source": [
    "for i, n in zip(data['Subject'], data['Group']):\n",
    "    new = i+ ' ' +n\n",
    "    break"
   ]
  },
  {
   "cell_type": "markdown",
   "metadata": {},
   "source": [
    "since all of raw folders are mixed up (AD, MCI, CN), let's try to organize them into folders for each class"
   ]
  },
  {
   "cell_type": "code",
   "execution_count": null,
   "metadata": {},
   "outputs": [],
   "source": []
  },
  {
   "cell_type": "code",
   "execution_count": 38,
   "metadata": {},
   "outputs": [
    {
     "data": {
      "text/plain": [
       "639"
      ]
     },
     "execution_count": 38,
     "metadata": {},
     "output_type": "execute_result"
    }
   ],
   "source": [
    "data['Subject'].nunique()"
   ]
  },
  {
   "cell_type": "code",
   "execution_count": 43,
   "metadata": {},
   "outputs": [
    {
     "data": {
      "text/plain": [
       "<matplotlib.axes._subplots.AxesSubplot at 0x7faa835dccd0>"
      ]
     },
     "execution_count": 43,
     "metadata": {},
     "output_type": "execute_result"
    },
    {
     "data": {
      "image/png": "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\n",
      "text/plain": [
       "<Figure size 432x288 with 1 Axes>"
      ]
     },
     "metadata": {
      "needs_background": "light"
     },
     "output_type": "display_data"
    }
   ],
   "source": [
    "sns.distplot(data['Age'], bins=20)"
   ]
  },
  {
   "cell_type": "code",
   "execution_count": 44,
   "metadata": {},
   "outputs": [],
   "source": [
    "data2 = data.drop_duplicates('Subject')"
   ]
  },
  {
   "cell_type": "code",
   "execution_count": 45,
=======
   "execution_count": 15,
>>>>>>> f242af649c6ac8e78d1ef0702a79664282af2547
   "metadata": {},
   "outputs": [
    {
     "data": {
      "text/html": [
       "<div>\n",
       "<style scoped>\n",
       "    .dataframe tbody tr th:only-of-type {\n",
       "        vertical-align: middle;\n",
       "    }\n",
       "\n",
       "    .dataframe tbody tr th {\n",
       "        vertical-align: top;\n",
       "    }\n",
       "\n",
       "    .dataframe thead th {\n",
       "        text-align: right;\n",
       "    }\n",
       "</style>\n",
       "<table border=\"1\" class=\"dataframe\">\n",
       "  <thead>\n",
       "    <tr style=\"text-align: right;\">\n",
       "      <th></th>\n",
       "      <th>Image Data ID</th>\n",
       "      <th>Subject</th>\n",
       "      <th>Group</th>\n",
       "      <th>Sex</th>\n",
       "      <th>Age</th>\n",
       "      <th>Visit</th>\n",
       "      <th>Modality</th>\n",
       "      <th>Description</th>\n",
       "      <th>Type</th>\n",
       "      <th>Acq Date</th>\n",
       "      <th>Format</th>\n",
       "      <th>Downloaded</th>\n",
       "    </tr>\n",
       "  </thead>\n",
       "  <tbody>\n",
       "    <tr>\n",
<<<<<<< HEAD
       "      <th>0</th>\n",
       "      <td>I64025</td>\n",
       "      <td>002_S_0295</td>\n",
       "      <td>CN</td>\n",
       "      <td>M</td>\n",
       "      <td>86</td>\n",
       "      <td>4</td>\n",
       "      <td>MRI</td>\n",
       "      <td>MPR; GradWarp; B1 Correction; N3; Scaled</td>\n",
       "      <td>Processed</td>\n",
       "      <td>5/25/2007</td>\n",
       "      <td>NiFTI</td>\n",
       "      <td>10/20/2020</td>\n",
       "    </tr>\n",
       "    <tr>\n",
       "      <th>5</th>\n",
       "      <td>I60008</td>\n",
       "      <td>002_S_0413</td>\n",
       "      <td>CN</td>\n",
       "      <td>F</td>\n",
       "      <td>77</td>\n",
       "      <td>4</td>\n",
       "      <td>MRI</td>\n",
       "      <td>MPR; GradWarp; B1 Correction; N3; Scaled</td>\n",
       "      <td>Processed</td>\n",
       "      <td>6/01/2007</td>\n",
       "      <td>NiFTI</td>\n",
       "      <td>10/20/2020</td>\n",
       "    </tr>\n",
       "    <tr>\n",
       "      <th>10</th>\n",
       "      <td>I118678</td>\n",
       "      <td>002_S_0619</td>\n",
       "      <td>AD</td>\n",
       "      <td>M</td>\n",
       "      <td>78</td>\n",
       "      <td>1</td>\n",
       "      <td>MRI</td>\n",
       "      <td>MPR-R; GradWarp; N3; Scaled_2</td>\n",
       "      <td>Processed</td>\n",
       "      <td>6/01/2006</td>\n",
       "      <td>NiFTI</td>\n",
       "      <td>10/20/2020</td>\n",
       "    </tr>\n",
       "    <tr>\n",
       "      <th>14</th>\n",
       "      <td>I118680</td>\n",
       "      <td>002_S_0685</td>\n",
       "      <td>CN</td>\n",
       "      <td>F</td>\n",
       "      <td>90</td>\n",
       "      <td>1</td>\n",
       "      <td>MRI</td>\n",
       "      <td>MPR; GradWarp; B1 Correction; N3; Scaled_2</td>\n",
       "      <td>Processed</td>\n",
       "      <td>7/06/2006</td>\n",
       "      <td>NiFTI</td>\n",
       "      <td>10/20/2020</td>\n",
       "    </tr>\n",
       "    <tr>\n",
       "      <th>18</th>\n",
       "      <td>I118682</td>\n",
       "      <td>002_S_0729</td>\n",
       "      <td>MCI</td>\n",
       "      <td>F</td>\n",
       "      <td>65</td>\n",
       "      <td>1</td>\n",
       "      <td>MRI</td>\n",
       "      <td>MPR; GradWarp; B1 Correction; N3; Scaled_2</td>\n",
       "      <td>Processed</td>\n",
       "      <td>7/17/2006</td>\n",
       "      <td>NiFTI</td>\n",
       "      <td>10/20/2020</td>\n",
       "    </tr>\n",
       "    <tr>\n",
       "      <th>...</th>\n",
       "      <td>...</td>\n",
       "      <td>...</td>\n",
       "      <td>...</td>\n",
       "      <td>...</td>\n",
       "      <td>...</td>\n",
       "      <td>...</td>\n",
       "      <td>...</td>\n",
       "      <td>...</td>\n",
       "      <td>...</td>\n",
       "      <td>...</td>\n",
       "      <td>...</td>\n",
       "      <td>...</td>\n",
       "    </tr>\n",
       "    <tr>\n",
       "      <th>2279</th>\n",
       "      <td>I48608</td>\n",
       "      <td>141_S_1255</td>\n",
       "      <td>MCI</td>\n",
       "      <td>F</td>\n",
       "      <td>77</td>\n",
=======
       "      <th>1500</th>\n",
       "      <td>I39881</td>\n",
       "      <td>073_S_0312</td>\n",
       "      <td>CN</td>\n",
       "      <td>M</td>\n",
       "      <td>83</td>\n",
>>>>>>> f242af649c6ac8e78d1ef0702a79664282af2547
       "      <td>1</td>\n",
       "      <td>MRI</td>\n",
       "      <td>MPR; GradWarp; B1 Correction; N3; Scaled</td>\n",
       "      <td>Processed</td>\n",
<<<<<<< HEAD
       "      <td>2/03/2007</td>\n",
       "      <td>NiFTI</td>\n",
       "      <td>10/20/2020</td>\n",
       "    </tr>\n",
       "    <tr>\n",
       "      <th>2282</th>\n",
       "      <td>I75141</td>\n",
       "      <td>941_S_1194</td>\n",
       "      <td>CN</td>\n",
       "      <td>M</td>\n",
       "      <td>85</td>\n",
=======
       "      <td>5/31/2006</td>\n",
       "      <td>NiFTI</td>\n",
       "      <td>10/19/2020</td>\n",
       "    </tr>\n",
       "    <tr>\n",
       "      <th>1501</th>\n",
       "      <td>I72481</td>\n",
       "      <td>073_S_0312</td>\n",
       "      <td>CN</td>\n",
       "      <td>M</td>\n",
       "      <td>84</td>\n",
>>>>>>> f242af649c6ac8e78d1ef0702a79664282af2547
       "      <td>3</td>\n",
       "      <td>MRI</td>\n",
       "      <td>MPR; GradWarp; B1 Correction; N3; Scaled</td>\n",
       "      <td>Processed</td>\n",
<<<<<<< HEAD
       "      <td>8/22/2007</td>\n",
=======
       "      <td>2/08/2007</td>\n",
>>>>>>> f242af649c6ac8e78d1ef0702a79664282af2547
       "      <td>NiFTI</td>\n",
       "      <td>10/20/2020</td>\n",
       "    </tr>\n",
       "    <tr>\n",
<<<<<<< HEAD
       "      <th>2285</th>\n",
       "      <td>I66462</td>\n",
       "      <td>941_S_1197</td>\n",
       "      <td>CN</td>\n",
       "      <td>F</td>\n",
       "      <td>82</td>\n",
       "      <td>1</td>\n",
       "      <td>MRI</td>\n",
       "      <td>MPR; GradWarp; B1 Correction; N3; Scaled</td>\n",
       "      <td>Processed</td>\n",
       "      <td>1/20/2007</td>\n",
       "      <td>NiFTI</td>\n",
       "      <td>10/20/2020</td>\n",
       "    </tr>\n",
       "    <tr>\n",
       "      <th>2288</th>\n",
       "      <td>I105437</td>\n",
       "      <td>941_S_1202</td>\n",
       "      <td>CN</td>\n",
       "      <td>M</td>\n",
       "      <td>79</td>\n",
       "      <td>4</td>\n",
       "      <td>MRI</td>\n",
       "      <td>MPR; GradWarp; B1 Correction; N3; Scaled</td>\n",
       "      <td>Processed</td>\n",
       "      <td>2/28/2008</td>\n",
=======
       "      <th>1502</th>\n",
       "      <td>I72494</td>\n",
       "      <td>073_S_0312</td>\n",
       "      <td>CN</td>\n",
       "      <td>M</td>\n",
       "      <td>84</td>\n",
       "      <td>4</td>\n",
       "      <td>MRI</td>\n",
       "      <td>MPR-R; GradWarp; B1 Correction; N3; Scaled</td>\n",
       "      <td>Processed</td>\n",
       "      <td>7/05/2007</td>\n",
>>>>>>> f242af649c6ac8e78d1ef0702a79664282af2547
       "      <td>NiFTI</td>\n",
       "      <td>10/20/2020</td>\n",
       "    </tr>\n",
       "    <tr>\n",
<<<<<<< HEAD
       "      <th>2291</th>\n",
       "      <td>I97327</td>\n",
       "      <td>941_S_1311</td>\n",
       "      <td>MCI</td>\n",
       "      <td>M</td>\n",
       "      <td>69</td>\n",
       "      <td>1</td>\n",
       "      <td>MRI</td>\n",
       "      <td>MPR; GradWarp; B1 Correction; N3; Scaled</td>\n",
       "      <td>Processed</td>\n",
       "      <td>3/02/2007</td>\n",
       "      <td>NiFTI</td>\n",
       "      <td>10/20/2020</td>\n",
       "    </tr>\n",
       "  </tbody>\n",
       "</table>\n",
       "<p>639 rows × 12 columns</p>\n",
=======
       "      <th>1503</th>\n",
       "      <td>I119230</td>\n",
       "      <td>073_S_0312</td>\n",
       "      <td>CN</td>\n",
       "      <td>M</td>\n",
       "      <td>83</td>\n",
       "      <td>1</td>\n",
       "      <td>MRI</td>\n",
       "      <td>MPR; GradWarp; B1 Correction; N3; Scaled_2</td>\n",
       "      <td>Processed</td>\n",
       "      <td>5/31/2006</td>\n",
       "      <td>NiFTI</td>\n",
       "      <td>11/04/2020</td>\n",
       "    </tr>\n",
       "  </tbody>\n",
       "</table>\n",
>>>>>>> f242af649c6ac8e78d1ef0702a79664282af2547
       "</div>"
      ],
      "text/plain": [
       "     Image Data ID     Subject Group Sex  Age  Visit Modality  \\\n",
<<<<<<< HEAD
       "0           I64025  002_S_0295    CN   M   86      4      MRI   \n",
       "5           I60008  002_S_0413    CN   F   77      4      MRI   \n",
       "10         I118678  002_S_0619    AD   M   78      1      MRI   \n",
       "14         I118680  002_S_0685    CN   F   90      1      MRI   \n",
       "18         I118682  002_S_0729   MCI   F   65      1      MRI   \n",
       "...            ...         ...   ...  ..  ...    ...      ...   \n",
       "2279        I48608  141_S_1255   MCI   F   77      1      MRI   \n",
       "2282        I75141  941_S_1194    CN   M   85      3      MRI   \n",
       "2285        I66462  941_S_1197    CN   F   82      1      MRI   \n",
       "2288       I105437  941_S_1202    CN   M   79      4      MRI   \n",
       "2291        I97327  941_S_1311   MCI   M   69      1      MRI   \n",
       "\n",
       "                                     Description       Type   Acq Date Format  \\\n",
       "0       MPR; GradWarp; B1 Correction; N3; Scaled  Processed  5/25/2007  NiFTI   \n",
       "5       MPR; GradWarp; B1 Correction; N3; Scaled  Processed  6/01/2007  NiFTI   \n",
       "10                 MPR-R; GradWarp; N3; Scaled_2  Processed  6/01/2006  NiFTI   \n",
       "14    MPR; GradWarp; B1 Correction; N3; Scaled_2  Processed  7/06/2006  NiFTI   \n",
       "18    MPR; GradWarp; B1 Correction; N3; Scaled_2  Processed  7/17/2006  NiFTI   \n",
       "...                                          ...        ...        ...    ...   \n",
       "2279    MPR; GradWarp; B1 Correction; N3; Scaled  Processed  2/03/2007  NiFTI   \n",
       "2282    MPR; GradWarp; B1 Correction; N3; Scaled  Processed  8/22/2007  NiFTI   \n",
       "2285    MPR; GradWarp; B1 Correction; N3; Scaled  Processed  1/20/2007  NiFTI   \n",
       "2288    MPR; GradWarp; B1 Correction; N3; Scaled  Processed  2/28/2008  NiFTI   \n",
       "2291    MPR; GradWarp; B1 Correction; N3; Scaled  Processed  3/02/2007  NiFTI   \n",
       "\n",
       "      Downloaded  \n",
       "0     10/20/2020  \n",
       "5     10/20/2020  \n",
       "10    10/20/2020  \n",
       "14    10/20/2020  \n",
       "18    10/20/2020  \n",
       "...          ...  \n",
       "2279  10/20/2020  \n",
       "2282  10/20/2020  \n",
       "2285  10/20/2020  \n",
       "2288  10/20/2020  \n",
       "2291  10/20/2020  \n",
       "\n",
       "[639 rows x 12 columns]"
      ]
     },
     "execution_count": 45,
     "metadata": {},
     "output_type": "execute_result"
    }
   ],
   "source": [
    "data2"
   ]
  },
  {
   "cell_type": "code",
   "execution_count": 51,
   "metadata": {},
   "outputs": [
    {
     "data": {
      "text/plain": [
       "<matplotlib.axes._subplots.AxesSubplot at 0x7faa83f32a00>"
      ]
     },
     "execution_count": 51,
     "metadata": {},
     "output_type": "execute_result"
    },
    {
     "data": {
      "image/png": "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\n",
      "text/plain": [
       "<Figure size 432x288 with 1 Axes>"
      ]
     },
     "metadata": {
      "needs_background": "light"
     },
     "output_type": "display_data"
    }
   ],
   "source": [
    "sns.distplot(data2[data2['Group'] == 'CN']['Age'])"
=======
       "1500        I39881  073_S_0312    CN   M   83      1      MRI   \n",
       "1501        I72481  073_S_0312    CN   M   84      3      MRI   \n",
       "1502        I72494  073_S_0312    CN   M   84      4      MRI   \n",
       "1503       I119230  073_S_0312    CN   M   83      1      MRI   \n",
       "\n",
       "                                     Description       Type   Acq Date Format  \\\n",
       "1500    MPR; GradWarp; B1 Correction; N3; Scaled  Processed  5/31/2006  NiFTI   \n",
       "1501    MPR; GradWarp; B1 Correction; N3; Scaled  Processed  2/08/2007  NiFTI   \n",
       "1502  MPR-R; GradWarp; B1 Correction; N3; Scaled  Processed  7/05/2007  NiFTI   \n",
       "1503  MPR; GradWarp; B1 Correction; N3; Scaled_2  Processed  5/31/2006  NiFTI   \n",
       "\n",
       "      Downloaded  \n",
       "1500  10/19/2020  \n",
       "1501  10/20/2020  \n",
       "1502  10/20/2020  \n",
       "1503  11/04/2020  "
      ]
     },
     "execution_count": 15,
     "metadata": {},
     "output_type": "execute_result"
    }
   ],
   "source": [
    "data[data['Subject'] == '073_S_0312']"
>>>>>>> f242af649c6ac8e78d1ef0702a79664282af2547
   ]
  },
  {
   "cell_type": "code",
<<<<<<< HEAD
   "execution_count": 52,
=======
   "execution_count": 10,
>>>>>>> f242af649c6ac8e78d1ef0702a79664282af2547
   "metadata": {},
   "outputs": [
    {
     "data": {
      "text/plain": [
<<<<<<< HEAD
       "<matplotlib.axes._subplots.AxesSubplot at 0x7faa84430280>"
      ]
     },
     "execution_count": 52,
     "metadata": {},
     "output_type": "execute_result"
    },
    {
     "data": {
      "image/png": "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\n",
      "text/plain": [
       "<Figure size 432x288 with 1 Axes>"
      ]
     },
     "metadata": {
      "needs_background": "light"
     },
     "output_type": "display_data"
    }
   ],
   "source": [
    "sns.distplot(data2[data2['Group'] == 'AD']['Age'])"
=======
       "'002_S_0295'"
      ]
     },
     "execution_count": 10,
     "metadata": {},
     "output_type": "execute_result"
    }
   ],
   "source": [
    "data.loc[1, 'Subject']"
>>>>>>> f242af649c6ac8e78d1ef0702a79664282af2547
   ]
  },
  {
   "cell_type": "code",
<<<<<<< HEAD
   "execution_count": 53,
   "metadata": {},
   "outputs": [
    {
     "data": {
      "text/plain": [
       "<matplotlib.axes._subplots.AxesSubplot at 0x7faa84ea5760>"
      ]
     },
     "execution_count": 53,
     "metadata": {},
     "output_type": "execute_result"
    },
    {
     "data": {
      "image/png": "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\n",
      "text/plain": [
       "<Figure size 432x288 with 1 Axes>"
      ]
     },
     "metadata": {
      "needs_background": "light"
     },
     "output_type": "display_data"
    }
   ],
   "source": [
    "sns.distplot(data2[data2['Group'] == 'MCI']['Age'])"
=======
   "execution_count": 19,
   "metadata": {},
   "outputs": [],
   "source": [
    "for i, n in zip(data['Subject'], data['Group']):\n",
    "    new = i+n\n",
    "    break"
>>>>>>> f242af649c6ac8e78d1ef0702a79664282af2547
   ]
  },
  {
   "cell_type": "code",
<<<<<<< HEAD
   "execution_count": 56,
=======
   "execution_count": 20,
>>>>>>> f242af649c6ac8e78d1ef0702a79664282af2547
   "metadata": {},
   "outputs": [
    {
     "data": {
      "text/plain": [
<<<<<<< HEAD
       "M    0.58216\n",
       "F    0.41784\n",
       "Name: Sex, dtype: float64"
      ]
     },
     "execution_count": 56,
=======
       "'002_S_0295CN'"
      ]
     },
     "execution_count": 20,
>>>>>>> f242af649c6ac8e78d1ef0702a79664282af2547
     "metadata": {},
     "output_type": "execute_result"
    }
   ],
   "source": [
<<<<<<< HEAD
    "data2.Sex.value_counts(normalize=True)"
   ]
  },
  {
   "cell_type": "code",
   "execution_count": null,
   "metadata": {},
   "outputs": [],
   "source": [
    "sns.distplot(data2[data2['Group'] == 'MCI']['Age'])"
=======
    "new"
>>>>>>> f242af649c6ac8e78d1ef0702a79664282af2547
   ]
  }
 ],
 "metadata": {
  "kernelspec": {
   "display_name": "Python 3",
   "language": "python",
   "name": "python3"
  },
  "language_info": {
   "codemirror_mode": {
    "name": "ipython",
    "version": 3
   },
   "file_extension": ".py",
   "mimetype": "text/x-python",
   "name": "python",
   "nbconvert_exporter": "python",
   "pygments_lexer": "ipython3",
   "version": "3.8.3"
  }
 },
 "nbformat": 4,
 "nbformat_minor": 4
}
